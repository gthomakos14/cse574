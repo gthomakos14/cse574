{
 "cells": [
  {
   "cell_type": "markdown",
   "id": "2830c529",
   "metadata": {},
   "source": [
    "# CSE 574: Homework 3\n",
    "\n",
    "### Glenn Thomakos"
   ]
  },
  {
   "cell_type": "markdown",
   "id": "5fbd5b9a",
   "metadata": {},
   "source": [
    "I certify that the code and data in this assignment were generated independently,\n",
    "using only the tools and resources defined in the course and that I did not receive\n",
    "any external help, coaching or contributions during the production of this work."
   ]
  },
  {
   "cell_type": "code",
   "execution_count": 1,
   "id": "fc0d4cc1",
   "metadata": {},
   "outputs": [],
   "source": [
    "import pandas as pd\n",
    "import numpy as np\n",
    "import matplotlib.pyplot as plt\n",
    "import seaborn as sns\n",
    "from sklearn.model_selection import train_test_split\n",
    "import tensorflow as tf\n",
    "from tensorflow import keras"
   ]
  },
  {
   "cell_type": "markdown",
   "id": "05b6b340",
   "metadata": {},
   "source": [
    "## Part 1: Building a Basic NN\n",
    "\n",
    "#### Step 1: Load, preprocess, and analyze the dataset and make it ready for training."
   ]
  },
  {
   "cell_type": "markdown",
   "id": "74c06f69",
   "metadata": {},
   "source": [
    "First, a quick glance at what's going on in the dataset. It's a 32561 x 15 data frame with mostly categorical data. Already we can see some missing values, marked by a \"?\" in this dataset, so those will have to be sorted out. \n",
    "\n",
    "Furthermore, all of the columns are pretty self-explanatory except for \"fnlwgt\" which, after some investigative googling (https://www.kaggle.com/datasets/uciml/adult-census-income/discussion/32698), seems to be quite the finnicky column so I'll just drop it from the dataset to avoid any complications and assumptions about correlations within the data. \n",
    "\n",
    "Speaking of correlations,\"education\" will be removed since it's just a categorical representation of the \"education.num\" column. I could have just eliminated \"education.num\" instead and made a bunch of dummy variables for education but that would have cluttered up the dataset given the large amount of levels in that column.\n",
    "\n",
    "\"Relationship\" is eliminated simply since it has very little to do with income (putting the cart before the horse, if there was any correlation) while \"race\" and \"sex\" were eliminated in order to avoid biases based on these variables."
   ]
  },
  {
   "cell_type": "code",
   "execution_count": 79,
   "id": "8c5a15ab",
   "metadata": {},
   "outputs": [
    {
     "name": "stdout",
     "output_type": "stream",
     "text": [
      "(32561, 15)\n",
      "age                int64\n",
      "workclass         object\n",
      "fnlwgt             int64\n",
      "education         object\n",
      "education.num      int64\n",
      "marital.status    object\n",
      "occupation        object\n",
      "relationship      object\n",
      "race              object\n",
      "sex               object\n",
      "capital.gain       int64\n",
      "capital.loss       int64\n",
      "hours.per.week     int64\n",
      "native.country    object\n",
      "income            object\n",
      "dtype: object\n",
      "                age  education.num  capital.gain  capital.loss  hours.per.week\n",
      "count  32561.000000   32561.000000  32561.000000  32561.000000    32561.000000\n",
      "mean      38.581647      10.080679   1077.648844     87.303830       40.437456\n",
      "std       13.640433       2.572720   7385.292085    402.960219       12.347429\n",
      "min       17.000000       1.000000      0.000000      0.000000        1.000000\n",
      "25%       28.000000       9.000000      0.000000      0.000000       40.000000\n",
      "50%       37.000000      10.000000      0.000000      0.000000       40.000000\n",
      "75%       48.000000      12.000000      0.000000      0.000000       45.000000\n",
      "max       90.000000      16.000000  99999.000000   4356.000000       99.000000\n"
     ]
    },
    {
     "data": {
      "text/html": [
       "<div>\n",
       "<style scoped>\n",
       "    .dataframe tbody tr th:only-of-type {\n",
       "        vertical-align: middle;\n",
       "    }\n",
       "\n",
       "    .dataframe tbody tr th {\n",
       "        vertical-align: top;\n",
       "    }\n",
       "\n",
       "    .dataframe thead th {\n",
       "        text-align: right;\n",
       "    }\n",
       "</style>\n",
       "<table border=\"1\" class=\"dataframe\">\n",
       "  <thead>\n",
       "    <tr style=\"text-align: right;\">\n",
       "      <th></th>\n",
       "      <th>age</th>\n",
       "      <th>workclass</th>\n",
       "      <th>education.num</th>\n",
       "      <th>marital.status</th>\n",
       "      <th>occupation</th>\n",
       "      <th>capital.gain</th>\n",
       "      <th>capital.loss</th>\n",
       "      <th>hours.per.week</th>\n",
       "      <th>native.country</th>\n",
       "      <th>income</th>\n",
       "    </tr>\n",
       "  </thead>\n",
       "  <tbody>\n",
       "    <tr>\n",
       "      <th>0</th>\n",
       "      <td>90</td>\n",
       "      <td>?</td>\n",
       "      <td>9</td>\n",
       "      <td>Widowed</td>\n",
       "      <td>?</td>\n",
       "      <td>0</td>\n",
       "      <td>4356</td>\n",
       "      <td>40</td>\n",
       "      <td>United-States</td>\n",
       "      <td>&lt;=50K</td>\n",
       "    </tr>\n",
       "    <tr>\n",
       "      <th>1</th>\n",
       "      <td>82</td>\n",
       "      <td>Private</td>\n",
       "      <td>9</td>\n",
       "      <td>Widowed</td>\n",
       "      <td>Exec-managerial</td>\n",
       "      <td>0</td>\n",
       "      <td>4356</td>\n",
       "      <td>18</td>\n",
       "      <td>United-States</td>\n",
       "      <td>&lt;=50K</td>\n",
       "    </tr>\n",
       "    <tr>\n",
       "      <th>2</th>\n",
       "      <td>66</td>\n",
       "      <td>?</td>\n",
       "      <td>10</td>\n",
       "      <td>Widowed</td>\n",
       "      <td>?</td>\n",
       "      <td>0</td>\n",
       "      <td>4356</td>\n",
       "      <td>40</td>\n",
       "      <td>United-States</td>\n",
       "      <td>&lt;=50K</td>\n",
       "    </tr>\n",
       "    <tr>\n",
       "      <th>3</th>\n",
       "      <td>54</td>\n",
       "      <td>Private</td>\n",
       "      <td>4</td>\n",
       "      <td>Divorced</td>\n",
       "      <td>Machine-op-inspct</td>\n",
       "      <td>0</td>\n",
       "      <td>3900</td>\n",
       "      <td>40</td>\n",
       "      <td>United-States</td>\n",
       "      <td>&lt;=50K</td>\n",
       "    </tr>\n",
       "    <tr>\n",
       "      <th>4</th>\n",
       "      <td>41</td>\n",
       "      <td>Private</td>\n",
       "      <td>10</td>\n",
       "      <td>Separated</td>\n",
       "      <td>Prof-specialty</td>\n",
       "      <td>0</td>\n",
       "      <td>3900</td>\n",
       "      <td>40</td>\n",
       "      <td>United-States</td>\n",
       "      <td>&lt;=50K</td>\n",
       "    </tr>\n",
       "  </tbody>\n",
       "</table>\n",
       "</div>"
      ],
      "text/plain": [
       "   age workclass  education.num marital.status         occupation  \\\n",
       "0   90         ?              9        Widowed                  ?   \n",
       "1   82   Private              9        Widowed    Exec-managerial   \n",
       "2   66         ?             10        Widowed                  ?   \n",
       "3   54   Private              4       Divorced  Machine-op-inspct   \n",
       "4   41   Private             10      Separated     Prof-specialty   \n",
       "\n",
       "   capital.gain  capital.loss  hours.per.week native.country income  \n",
       "0             0          4356              40  United-States  <=50K  \n",
       "1             0          4356              18  United-States  <=50K  \n",
       "2             0          4356              40  United-States  <=50K  \n",
       "3             0          3900              40  United-States  <=50K  \n",
       "4             0          3900              40  United-States  <=50K  "
      ]
     },
     "execution_count": 79,
     "metadata": {},
     "output_type": "execute_result"
    }
   ],
   "source": [
    "df_income = pd.read_csv('income_dataset.csv')\n",
    "\n",
    "print(df_income.shape)\n",
    "print(df_income.dtypes)\n",
    "\n",
    "df_income = df_income.drop(['fnlwgt','education','race','sex','relationship'],axis=1)\n",
    "print(df_income.describe())\n",
    "df_income.head()"
   ]
  },
  {
   "cell_type": "markdown",
   "id": "ec6adf39",
   "metadata": {},
   "source": [
    "Now we need to check in on the amount of NA values that are in the dataset. Due to the small amount of missing values they'll simply be dropped from the dataset in order to yield a new data frame which has 30162 entries which is 92.6% the size of the original."
   ]
  },
  {
   "cell_type": "code",
   "execution_count": 80,
   "id": "e3e5870a",
   "metadata": {},
   "outputs": [
    {
     "name": "stdout",
     "output_type": "stream",
     "text": [
      "age                  0\n",
      "workclass         1836\n",
      "education.num        0\n",
      "marital.status       0\n",
      "occupation        1843\n",
      "capital.gain         0\n",
      "capital.loss         0\n",
      "hours.per.week       0\n",
      "native.country     583\n",
      "income               0\n",
      "dtype: int64\n"
     ]
    }
   ],
   "source": [
    "df_income = df_income.replace(['?'],[None])\n",
    "print(df_income.isna().sum())\n",
    "df_income = df_income.dropna()"
   ]
  },
  {
   "cell_type": "markdown",
   "id": "b1797744",
   "metadata": {},
   "source": [
    "From this point, we've got some columns that need some treatment. The changes will be shown for each column in the order they are shown in the print above: \n",
    "\n",
    "* age: Will be normalized.\n",
    "\n",
    "* workclass: Will require dummy variables.\n",
    "\n",
    "* marital.status: Will require dummy variables.\n",
    "\n",
    "* occupation: Will require dummy variables.\n",
    "\n",
    "* relationship: Will require dummy variables.\n",
    "\n",
    "* race: 'White' overwhelms the other options. Will be swapped to \"White\" and \"Other\", then dummy variable.\n",
    "\n",
    "* capital.gain: Will be normalized.\n",
    "\n",
    "* capital.loss: Same as capital.gain.\n",
    "\n",
    "* native.country: There's several levels here, and \"United-States\" dominates the column, so it's going to be changed to \"United-States\" and \"Other\" similarly to the \"race\" column.\n",
    "\n",
    "* hours.per.week: Will be binned into 3 categories: 'PartTime', 'FullTime', and 'Workaholic'.\n",
    "\n",
    "* income: Will require dummy variables.\n",
    "\n",
    "I'm not overly fond of the amount of dummy variables here as it's going to create quite a few columns and the dataset will be wildly unpleasant to look at. However, from this point on we really don't need to look at the raw data and if it helps make a model, I'm prepared to have an ugly dataset."
   ]
  },
  {
   "cell_type": "markdown",
   "id": "2dbd2362",
   "metadata": {},
   "source": [
    "This graph below is an illustration of the problematic nature of the \"native.country\" column. The United States is very clearly overrepresented by quite the wide margin. Furthermore, there's a bunch of other countries that are accounted for in this dataset that even when rotating the labels, it's still quite crowded on the x-axis."
   ]
  },
  {
   "cell_type": "code",
   "execution_count": 81,
   "id": "d1ecf6f0",
   "metadata": {},
   "outputs": [
    {
     "data": {
      "image/png": "[encoded data removed]",
      "text/plain": [
       "<Figure size 432x288 with 1 Axes>"
      ]
     },
     "metadata": {
      "needs_background": "light"
     },
     "output_type": "display_data"
    }
   ],
   "source": [
    "plt.plot(df_income['native.country'].value_counts(),'bo')\n",
    "plt.title('Value Counts for Native Country')\n",
    "plt.xlabel('Country Label')\n",
    "plt.ylabel('Number of Instances')\n",
    "plt.xticks(rotation=90)\n",
    "plt.show()"
   ]
  },
  {
   "cell_type": "markdown",
   "id": "a3b29512",
   "metadata": {},
   "source": [
    "This plot below evaluates how important education is when determining our target variable of income. We can clearly see that most people in the dataset have an education level of between 9 and 13 (high school grad and bachelor's degree respectively, but the peaks in the two densities of income are centered in two different areas."
   ]
  },
  {
   "cell_type": "code",
   "execution_count": 82,
   "id": "a18e9c87",
   "metadata": {},
   "outputs": [
    {
     "data": {
      "image/png": "[encoded data removed]",
      "text/plain": [
       "<Figure size 432x288 with 1 Axes>"
      ]
     },
     "metadata": {
      "needs_background": "light"
     },
     "output_type": "display_data"
    }
   ],
   "source": [
    "sns.kdeplot(df_income[df_income['income']=='>50K']['education.num'])\n",
    "sns.kdeplot(df_income[df_income['income']=='<=50K']['education.num'])\n",
    "plt.legend(labels=['>50K','<=50K'])\n",
    "plt.title(\"Density Plot of Education's Effect on Income\")\n",
    "plt.xlabel('Education Level')\n",
    "plt.show()"
   ]
  },
  {
   "cell_type": "markdown",
   "id": "5e15d475",
   "metadata": {},
   "source": [
    "Similar to the above plot, this density plot examines hours worked per week's effect on income. The lower end of the graph (below 40 per week) does seem very intuitive given that part time work really shouldn't be enough to compete with a full time job, but the further end is interesting given the distances between the two density plots at 40, 50, and 60, indicating that more hours does imply more income."
   ]
  },
  {
   "cell_type": "code",
   "execution_count": 83,
   "id": "dd08c9eb",
   "metadata": {},
   "outputs": [
    {
     "data": {
      "image/png": "[encoded data removed]",
      "text/plain": [
       "<Figure size 432x288 with 1 Axes>"
      ]
     },
     "metadata": {
      "needs_background": "light"
     },
     "output_type": "display_data"
    }
   ],
   "source": [
    "sns.kdeplot(df_income[df_income['income']=='<=50K']['hours.per.week'])\n",
    "sns.kdeplot(df_income[df_income['income']=='>50K']['hours.per.week'])\n",
    "plt.title(\"Density plot of Hours Worked's Effect on Income\")\n",
    "plt.xlabel('Hours Per Week')\n",
    "plt.legend(labels=['<=50K','>50K'])\n",
    "plt.show()"
   ]
  },
  {
   "cell_type": "code",
   "execution_count": 84,
   "id": "424dab59",
   "metadata": {},
   "outputs": [],
   "source": [
    "# Adjusting \"native.country\" column:\n",
    "df_income['native.country'].loc[df_income['native.country']!='United-States'] = 'Other'\n",
    "\n",
    "# Adjusting 'hours.per.week' column:\n",
    "bins = [0,30,55,max(df_income['hours.per.week'])]\n",
    "labels = ['PartTime','FullTime','Workaholic']\n",
    "df_income['hours.per.week'] = pd.cut(df_income['hours.per.week'],bins=bins,labels=labels)"
   ]
  },
  {
   "cell_type": "markdown",
   "id": "349f8bd5",
   "metadata": {},
   "source": [
    "Finally, we come to setting up the full blown data frame which is getting the dummy variables of the data, then splitting the dataframe into train and test data. We'll be using a 70:30 split. We'll also be normalizing the numerical features."
   ]
  },
  {
   "cell_type": "code",
   "execution_count": 85,
   "id": "8a3557f2",
   "metadata": {},
   "outputs": [
    {
     "data": {
      "text/html": [
       "<div>\n",
       "<style scoped>\n",
       "    .dataframe tbody tr th:only-of-type {\n",
       "        vertical-align: middle;\n",
       "    }\n",
       "\n",
       "    .dataframe tbody tr th {\n",
       "        vertical-align: top;\n",
       "    }\n",
       "\n",
       "    .dataframe thead th {\n",
       "        text-align: right;\n",
       "    }\n",
       "</style>\n",
       "<table border=\"1\" class=\"dataframe\">\n",
       "  <thead>\n",
       "    <tr style=\"text-align: right;\">\n",
       "      <th></th>\n",
       "      <th>age</th>\n",
       "      <th>education.num</th>\n",
       "      <th>capital.gain</th>\n",
       "      <th>capital.loss</th>\n",
       "      <th>workclass.Local-gov</th>\n",
       "      <th>workclass.Private</th>\n",
       "      <th>workclass.Self-emp-inc</th>\n",
       "      <th>workclass.Self-emp-not-inc</th>\n",
       "      <th>workclass.State-gov</th>\n",
       "      <th>workclass.Without-pay</th>\n",
       "      <th>...</th>\n",
       "      <th>occupation.Priv-house-serv</th>\n",
       "      <th>occupation.Prof-specialty</th>\n",
       "      <th>occupation.Protective-serv</th>\n",
       "      <th>occupation.Sales</th>\n",
       "      <th>occupation.Tech-support</th>\n",
       "      <th>occupation.Transport-moving</th>\n",
       "      <th>hours.per.week.FullTime</th>\n",
       "      <th>hours.per.week.Workaholic</th>\n",
       "      <th>native.country.United-States</th>\n",
       "      <th>income.&gt;50K</th>\n",
       "    </tr>\n",
       "  </thead>\n",
       "  <tbody>\n",
       "    <tr>\n",
       "      <th>1</th>\n",
       "      <td>3.316575</td>\n",
       "      <td>9</td>\n",
       "      <td>-0.147442</td>\n",
       "      <td>10.555639</td>\n",
       "      <td>0</td>\n",
       "      <td>1</td>\n",
       "      <td>0</td>\n",
       "      <td>0</td>\n",
       "      <td>0</td>\n",
       "      <td>0</td>\n",
       "      <td>...</td>\n",
       "      <td>0</td>\n",
       "      <td>0</td>\n",
       "      <td>0</td>\n",
       "      <td>0</td>\n",
       "      <td>0</td>\n",
       "      <td>0</td>\n",
       "      <td>0</td>\n",
       "      <td>0</td>\n",
       "      <td>1</td>\n",
       "      <td>0</td>\n",
       "    </tr>\n",
       "    <tr>\n",
       "      <th>3</th>\n",
       "      <td>1.184811</td>\n",
       "      <td>4</td>\n",
       "      <td>-0.147442</td>\n",
       "      <td>9.427759</td>\n",
       "      <td>0</td>\n",
       "      <td>1</td>\n",
       "      <td>0</td>\n",
       "      <td>0</td>\n",
       "      <td>0</td>\n",
       "      <td>0</td>\n",
       "      <td>...</td>\n",
       "      <td>0</td>\n",
       "      <td>0</td>\n",
       "      <td>0</td>\n",
       "      <td>0</td>\n",
       "      <td>0</td>\n",
       "      <td>0</td>\n",
       "      <td>1</td>\n",
       "      <td>0</td>\n",
       "      <td>1</td>\n",
       "      <td>0</td>\n",
       "    </tr>\n",
       "    <tr>\n",
       "      <th>4</th>\n",
       "      <td>0.195064</td>\n",
       "      <td>10</td>\n",
       "      <td>-0.147442</td>\n",
       "      <td>9.427759</td>\n",
       "      <td>0</td>\n",
       "      <td>1</td>\n",
       "      <td>0</td>\n",
       "      <td>0</td>\n",
       "      <td>0</td>\n",
       "      <td>0</td>\n",
       "      <td>...</td>\n",
       "      <td>0</td>\n",
       "      <td>1</td>\n",
       "      <td>0</td>\n",
       "      <td>0</td>\n",
       "      <td>0</td>\n",
       "      <td>0</td>\n",
       "      <td>1</td>\n",
       "      <td>0</td>\n",
       "      <td>1</td>\n",
       "      <td>0</td>\n",
       "    </tr>\n",
       "    <tr>\n",
       "      <th>5</th>\n",
       "      <td>-0.337877</td>\n",
       "      <td>9</td>\n",
       "      <td>-0.147442</td>\n",
       "      <td>9.106214</td>\n",
       "      <td>0</td>\n",
       "      <td>1</td>\n",
       "      <td>0</td>\n",
       "      <td>0</td>\n",
       "      <td>0</td>\n",
       "      <td>0</td>\n",
       "      <td>...</td>\n",
       "      <td>0</td>\n",
       "      <td>0</td>\n",
       "      <td>0</td>\n",
       "      <td>0</td>\n",
       "      <td>0</td>\n",
       "      <td>0</td>\n",
       "      <td>1</td>\n",
       "      <td>0</td>\n",
       "      <td>1</td>\n",
       "      <td>0</td>\n",
       "    </tr>\n",
       "    <tr>\n",
       "      <th>6</th>\n",
       "      <td>-0.033339</td>\n",
       "      <td>6</td>\n",
       "      <td>-0.147442</td>\n",
       "      <td>9.106214</td>\n",
       "      <td>0</td>\n",
       "      <td>1</td>\n",
       "      <td>0</td>\n",
       "      <td>0</td>\n",
       "      <td>0</td>\n",
       "      <td>0</td>\n",
       "      <td>...</td>\n",
       "      <td>0</td>\n",
       "      <td>0</td>\n",
       "      <td>0</td>\n",
       "      <td>0</td>\n",
       "      <td>0</td>\n",
       "      <td>0</td>\n",
       "      <td>1</td>\n",
       "      <td>0</td>\n",
       "      <td>1</td>\n",
       "      <td>0</td>\n",
       "    </tr>\n",
       "  </tbody>\n",
       "</table>\n",
       "<p>5 rows × 33 columns</p>\n",
       "</div>"
      ],
      "text/plain": [
       "        age  education.num  capital.gain  capital.loss  workclass.Local-gov  \\\n",
       "1  3.316575              9     -0.147442     10.555639                    0   \n",
       "3  1.184811              4     -0.147442      9.427759                    0   \n",
       "4  0.195064             10     -0.147442      9.427759                    0   \n",
       "5 -0.337877              9     -0.147442      9.106214                    0   \n",
       "6 -0.033339              6     -0.147442      9.106214                    0   \n",
       "\n",
       "   workclass.Private  workclass.Self-emp-inc  workclass.Self-emp-not-inc  \\\n",
       "1                  1                       0                           0   \n",
       "3                  1                       0                           0   \n",
       "4                  1                       0                           0   \n",
       "5                  1                       0                           0   \n",
       "6                  1                       0                           0   \n",
       "\n",
       "   workclass.State-gov  workclass.Without-pay  ...  \\\n",
       "1                    0                      0  ...   \n",
       "3                    0                      0  ...   \n",
       "4                    0                      0  ...   \n",
       "5                    0                      0  ...   \n",
       "6                    0                      0  ...   \n",
       "\n",
       "   occupation.Priv-house-serv  occupation.Prof-specialty  \\\n",
       "1                           0                          0   \n",
       "3                           0                          0   \n",
       "4                           0                          1   \n",
       "5                           0                          0   \n",
       "6                           0                          0   \n",
       "\n",
       "   occupation.Protective-serv  occupation.Sales  occupation.Tech-support  \\\n",
       "1                           0                 0                        0   \n",
       "3                           0                 0                        0   \n",
       "4                           0                 0                        0   \n",
       "5                           0                 0                        0   \n",
       "6                           0                 0                        0   \n",
       "\n",
       "   occupation.Transport-moving  hours.per.week.FullTime  \\\n",
       "1                            0                        0   \n",
       "3                            0                        1   \n",
       "4                            0                        1   \n",
       "5                            0                        1   \n",
       "6                            0                        1   \n",
       "\n",
       "   hours.per.week.Workaholic  native.country.United-States  income.>50K  \n",
       "1                          0                             1            0  \n",
       "3                          0                             1            0  \n",
       "4                          0                             1            0  \n",
       "5                          0                             1            0  \n",
       "6                          0                             1            0  \n",
       "\n",
       "[5 rows x 33 columns]"
      ]
     },
     "execution_count": 85,
     "metadata": {},
     "output_type": "execute_result"
    }
   ],
   "source": [
    "def normalize_helper(column):\n",
    "    return (column - column.mean())/column.std()\n",
    "\n",
    "df_income['age'] = normalize_helper(df_income['age'])\n",
    "df_income['capital.gain'] = normalize_helper(df_income['capital.gain'])\n",
    "df_income['capital.loss'] = normalize_helper(df_income['capital.loss'])\n",
    "\n",
    "df_income = pd.get_dummies(df_income,prefix_sep='.',drop_first=True)\n",
    "df_income.head()"
   ]
  },
  {
   "cell_type": "code",
   "execution_count": 86,
   "id": "1c4f5ac9",
   "metadata": {},
   "outputs": [],
   "source": [
    "# Train-test split with train set being 70% of the data.\n",
    "X = df_income.loc[:, df_income.columns!='income.>50K']\n",
    "y = df_income['income.>50K']\n",
    "\n",
    "X_train,X_test,y_train,y_test = train_test_split(X,y,test_size=0.3,random_state=12)"
   ]
  },
  {
   "cell_type": "markdown",
   "id": "b4d8a45e",
   "metadata": {},
   "source": [
    "#### Step 2: Build and train a basic NN:"
   ]
  },
  {
   "cell_type": "code",
   "execution_count": 157,
   "id": "0ed71395",
   "metadata": {},
   "outputs": [],
   "source": [
    "def fit_nn_model(act_function,kern_initializer,bias,hl_size):    \n",
    "    tf.random.set_seed(12)\n",
    "    model = keras.models.Sequential()\n",
    "\n",
    "    model.add(keras.layers.Dense(units=hl_size,input_dim=X_train.shape[1],bias_initializer=bias,\n",
    "                                 kernel_initializer=kern_initializer,activation=act_function))\n",
    "    model.add(keras.layers.Dense(units=hl_size,input_dim=hl_size,bias_initializer=bias,\n",
    "                                 kernel_initializer=kern_initializer,activation=act_function))\n",
    "    model.add(keras.layers.Dense(units=hl_size,input_dim=hl_size,bias_initializer=bias,\n",
    "                                 kernel_initializer=kern_initializer,activation=act_function))\n",
    "    model.add(keras.layers.Dense(units=hl_size,input_dim=hl_size,bias_initializer=bias,\n",
    "                                 kernel_initializer=kern_initializer,activation=act_function))\n",
    "    model.add(keras.layers.Dense(units=1,input_dim=hl_size,bias_initializer=bias,\n",
    "                                 kernel_initializer=kern_initializer,activation='sigmoid'))\n",
    "\n",
    "    model.compile(optimizer='adam',loss='binary_crossentropy')\n",
    "    model.fit(X_train,y_train,epochs=12,verbose=0)\n",
    "    return model\n",
    "\n",
    "model = fit_nn_model('relu','random_uniform','ones',32)"
   ]
  },
  {
   "cell_type": "code",
   "execution_count": 145,
   "id": "c4e25ea0",
   "metadata": {},
   "outputs": [
    {
     "name": "stdout",
     "output_type": "stream",
     "text": [
      "Train error is: 0.8523184767678681\n"
     ]
    }
   ],
   "source": [
    "def get_train_accuracy(model):\n",
    "    y_hat = np.concatenate(model.predict(X_train))\n",
    "    y_hat = np.round(y_hat)\n",
    "    confusion_matrix = pd.crosstab(y_train.values,y_hat)\n",
    "    numerator = confusion_matrix[0][0]+confusion_matrix[1][1]\n",
    "    denominator = numerator+confusion_matrix[0][1]+confusion_matrix[1][0]\n",
    "    return numerator/denominator\n",
    "print('Train error is: '+str(get_train_accuracy(model)))"
   ]
  },
  {
   "cell_type": "markdown",
   "id": "93de0c4a",
   "metadata": {},
   "source": [
    "#### Step 3: Test your NN on the testing dataset."
   ]
  },
  {
   "cell_type": "code",
   "execution_count": 146,
   "id": "164a01dc",
   "metadata": {},
   "outputs": [
    {
     "name": "stdout",
     "output_type": "stream",
     "text": [
      "Test error is: 0.8529119239694994\n"
     ]
    }
   ],
   "source": [
    "def get_test_accuracy(model):\n",
    "    y_hat = np.concatenate(model.predict(X_test))\n",
    "    y_hat = np.round(y_hat)\n",
    "    confusion_matrix = pd.crosstab(y_test.values,y_hat)\n",
    "    numerator = confusion_matrix[0][0]+confusion_matrix[1][1]\n",
    "    denominator = numerator+confusion_matrix[0][1]+confusion_matrix[1][0]\n",
    "    return numerator/denominator\n",
    "print('Test error is: '+str(get_test_accuracy(model)))"
   ]
  },
  {
   "cell_type": "code",
   "execution_count": 147,
   "id": "5ad86b7d",
   "metadata": {},
   "outputs": [
    {
     "name": "stdout",
     "output_type": "stream",
     "text": [
      "Model: \"sequential_43\"\n",
      "_________________________________________________________________\n",
      " Layer (type)                Output Shape              Param #   \n",
      "=================================================================\n",
      " dense_212 (Dense)           (None, 32)                1056      \n",
      "                                                                 \n",
      " dense_213 (Dense)           (None, 32)                1056      \n",
      "                                                                 \n",
      " dense_214 (Dense)           (None, 32)                1056      \n",
      "                                                                 \n",
      " dense_215 (Dense)           (None, 32)                1056      \n",
      "                                                                 \n",
      " dense_216 (Dense)           (None, 1)                 33        \n",
      "                                                                 \n",
      "=================================================================\n",
      "Total params: 4,257\n",
      "Trainable params: 4,257\n",
      "Non-trainable params: 0\n",
      "_________________________________________________________________\n"
     ]
    }
   ],
   "source": [
    "model.summary()"
   ]
  },
  {
   "cell_type": "markdown",
   "id": "3667ffda",
   "metadata": {},
   "source": [
    "## Part 2: Optimizing NN\n",
    "\n",
    "#### Step1: Choose one hyperparameter to modify. Fix the NN structure and all other parameters, and change values only for your chosen hyperparameter. \n",
    "\n",
    "It should be mentioned that the established test error is 0.8529119239694994. We will be changing the activation functions. The output layer will always be sigmoid but we will be trying out tanh and selu in addition to the relu that was used in the original model.\n",
    "\n",
    "After examining these tables, the setup which yielded the highest accuracy was with ReLU, 64 hidden layer units, a bias initializer of ones, and a kernel initializer of random uniform."
   ]
  },
  {
   "cell_type": "code",
   "execution_count": 148,
   "id": "8e556f3f",
   "metadata": {},
   "outputs": [
    {
     "data": {
      "text/html": [
       "<div>\n",
       "<style scoped>\n",
       "    .dataframe tbody tr th:only-of-type {\n",
       "        vertical-align: middle;\n",
       "    }\n",
       "\n",
       "    .dataframe tbody tr th {\n",
       "        vertical-align: top;\n",
       "    }\n",
       "\n",
       "    .dataframe thead th {\n",
       "        text-align: right;\n",
       "    }\n",
       "</style>\n",
       "<table border=\"1\" class=\"dataframe\">\n",
       "  <thead>\n",
       "    <tr style=\"text-align: right;\">\n",
       "      <th></th>\n",
       "      <th>Setup1</th>\n",
       "      <th>Accuracy1</th>\n",
       "      <th>Setup2</th>\n",
       "      <th>Accuracy2</th>\n",
       "      <th>Setup3</th>\n",
       "      <th>Accuracy3</th>\n",
       "    </tr>\n",
       "  </thead>\n",
       "  <tbody>\n",
       "    <tr>\n",
       "      <th>Activation Function</th>\n",
       "      <td>ReLU</td>\n",
       "      <td>0.852912</td>\n",
       "      <td>tanh</td>\n",
       "      <td>0.852028</td>\n",
       "      <td>selu</td>\n",
       "      <td>0.851365</td>\n",
       "    </tr>\n",
       "    <tr>\n",
       "      <th>HL Size</th>\n",
       "      <td>32</td>\n",
       "      <td>0.852912</td>\n",
       "      <td>32</td>\n",
       "      <td>0.852028</td>\n",
       "      <td>32</td>\n",
       "      <td>0.851365</td>\n",
       "    </tr>\n",
       "    <tr>\n",
       "      <th>Bias Initializer</th>\n",
       "      <td>ones</td>\n",
       "      <td>0.852912</td>\n",
       "      <td>ones</td>\n",
       "      <td>0.852028</td>\n",
       "      <td>ones</td>\n",
       "      <td>0.851365</td>\n",
       "    </tr>\n",
       "    <tr>\n",
       "      <th>Kernal Initializer</th>\n",
       "      <td>Random Uniform</td>\n",
       "      <td>0.852912</td>\n",
       "      <td>Random Uniform</td>\n",
       "      <td>0.852028</td>\n",
       "      <td>Random Uniform</td>\n",
       "      <td>0.851365</td>\n",
       "    </tr>\n",
       "  </tbody>\n",
       "</table>\n",
       "</div>"
      ],
      "text/plain": [
       "                             Setup1  Accuracy1          Setup2  Accuracy2  \\\n",
       "Activation Function            ReLU   0.852912            tanh   0.852028   \n",
       "HL Size                          32   0.852912              32   0.852028   \n",
       "Bias Initializer               ones   0.852912            ones   0.852028   \n",
       "Kernal Initializer   Random Uniform   0.852912  Random Uniform   0.852028   \n",
       "\n",
       "                             Setup3  Accuracy3  \n",
       "Activation Function            selu   0.851365  \n",
       "HL Size                          32   0.851365  \n",
       "Bias Initializer               ones   0.851365  \n",
       "Kernal Initializer   Random Uniform   0.851365  "
      ]
     },
     "execution_count": 148,
     "metadata": {},
     "output_type": "execute_result"
    }
   ],
   "source": [
    "index_labels = ['Activation Function','HL Size','Bias Initializer','Kernal Initializer']\n",
    "\n",
    "model_1 = fit_nn_model('relu','random_uniform','ones',32)\n",
    "model_2 = fit_nn_model('tanh','random_uniform','ones',32)\n",
    "model_3 = fit_nn_model('selu','random_uniform','ones',32)\n",
    "\n",
    "test_accuracy_1 = get_test_accuracy(model_1)\n",
    "test_accuracy_2 = get_test_accuracy(model_2)\n",
    "test_accuracy_3 = get_test_accuracy(model_3)\n",
    "\n",
    "pd.DataFrame({'Setup1':['ReLU','32','ones','Random Uniform'],\n",
    "             'Accuracy1':test_accuracy_1,\n",
    "             'Setup2':['tanh','32','ones','Random Uniform'],\n",
    "             'Accuracy2':test_accuracy_2,\n",
    "             'Setup3':['selu','32','ones','Random Uniform'],\n",
    "             'Accuracy3':test_accuracy_3},\n",
    "             index=index_labels)"
   ]
  },
  {
   "cell_type": "code",
   "execution_count": 149,
   "id": "7284c344",
   "metadata": {},
   "outputs": [
    {
     "data": {
      "text/html": [
       "<div>\n",
       "<style scoped>\n",
       "    .dataframe tbody tr th:only-of-type {\n",
       "        vertical-align: middle;\n",
       "    }\n",
       "\n",
       "    .dataframe tbody tr th {\n",
       "        vertical-align: top;\n",
       "    }\n",
       "\n",
       "    .dataframe thead th {\n",
       "        text-align: right;\n",
       "    }\n",
       "</style>\n",
       "<table border=\"1\" class=\"dataframe\">\n",
       "  <thead>\n",
       "    <tr style=\"text-align: right;\">\n",
       "      <th></th>\n",
       "      <th>Setup1</th>\n",
       "      <th>Accuracy1</th>\n",
       "      <th>Setup2</th>\n",
       "      <th>Accuracy2</th>\n",
       "      <th>Setup3</th>\n",
       "      <th>Accuracy3</th>\n",
       "    </tr>\n",
       "  </thead>\n",
       "  <tbody>\n",
       "    <tr>\n",
       "      <th>Activation Function</th>\n",
       "      <td>ReLU</td>\n",
       "      <td>0.852912</td>\n",
       "      <td>ReLU</td>\n",
       "      <td>0.852912</td>\n",
       "      <td>ReLU</td>\n",
       "      <td>0.856117</td>\n",
       "    </tr>\n",
       "    <tr>\n",
       "      <th>HL Size</th>\n",
       "      <td>32</td>\n",
       "      <td>0.852912</td>\n",
       "      <td>16</td>\n",
       "      <td>0.852912</td>\n",
       "      <td>64</td>\n",
       "      <td>0.856117</td>\n",
       "    </tr>\n",
       "    <tr>\n",
       "      <th>Bias Initializer</th>\n",
       "      <td>ones</td>\n",
       "      <td>0.852912</td>\n",
       "      <td>ones</td>\n",
       "      <td>0.852912</td>\n",
       "      <td>ones</td>\n",
       "      <td>0.856117</td>\n",
       "    </tr>\n",
       "    <tr>\n",
       "      <th>Kernal Initializer</th>\n",
       "      <td>Random Uniform</td>\n",
       "      <td>0.852912</td>\n",
       "      <td>Random Uniform</td>\n",
       "      <td>0.852912</td>\n",
       "      <td>Random Uniform</td>\n",
       "      <td>0.856117</td>\n",
       "    </tr>\n",
       "  </tbody>\n",
       "</table>\n",
       "</div>"
      ],
      "text/plain": [
       "                             Setup1  Accuracy1          Setup2  Accuracy2  \\\n",
       "Activation Function            ReLU   0.852912            ReLU   0.852912   \n",
       "HL Size                          32   0.852912              16   0.852912   \n",
       "Bias Initializer               ones   0.852912            ones   0.852912   \n",
       "Kernal Initializer   Random Uniform   0.852912  Random Uniform   0.852912   \n",
       "\n",
       "                             Setup3  Accuracy3  \n",
       "Activation Function            ReLU   0.856117  \n",
       "HL Size                          64   0.856117  \n",
       "Bias Initializer               ones   0.856117  \n",
       "Kernal Initializer   Random Uniform   0.856117  "
      ]
     },
     "execution_count": 149,
     "metadata": {},
     "output_type": "execute_result"
    }
   ],
   "source": [
    "model_1 = fit_nn_model('relu','random_uniform','ones',32)\n",
    "model_2 = fit_nn_model('relu','random_uniform','ones',16)\n",
    "model_3 = fit_nn_model('relu','random_uniform','ones',64)\n",
    "\n",
    "test_accuracy_1 = get_test_accuracy(model_1)\n",
    "test_accuracy_2 = get_test_accuracy(model_2)\n",
    "test_accuracy_3 = get_test_accuracy(model_3)\n",
    "\n",
    "pd.DataFrame({'Setup1':['ReLU','32','ones','Random Uniform'],\n",
    "             'Accuracy1':test_accuracy_1,\n",
    "             'Setup2':['ReLU','16','ones','Random Uniform'],\n",
    "             'Accuracy2':test_accuracy_2,\n",
    "             'Setup3':['ReLU','64','ones','Random Uniform'],\n",
    "             'Accuracy3':test_accuracy_3},\n",
    "             index=index_labels)"
   ]
  },
  {
   "cell_type": "code",
   "execution_count": 150,
   "id": "931125b1",
   "metadata": {},
   "outputs": [
    {
     "data": {
      "text/html": [
       "<div>\n",
       "<style scoped>\n",
       "    .dataframe tbody tr th:only-of-type {\n",
       "        vertical-align: middle;\n",
       "    }\n",
       "\n",
       "    .dataframe tbody tr th {\n",
       "        vertical-align: top;\n",
       "    }\n",
       "\n",
       "    .dataframe thead th {\n",
       "        text-align: right;\n",
       "    }\n",
       "</style>\n",
       "<table border=\"1\" class=\"dataframe\">\n",
       "  <thead>\n",
       "    <tr style=\"text-align: right;\">\n",
       "      <th></th>\n",
       "      <th>Setup1</th>\n",
       "      <th>Accuracy1</th>\n",
       "      <th>Setup2</th>\n",
       "      <th>Accuracy2</th>\n",
       "      <th>Setup3</th>\n",
       "      <th>Accuracy3</th>\n",
       "    </tr>\n",
       "  </thead>\n",
       "  <tbody>\n",
       "    <tr>\n",
       "      <th>Activation Function</th>\n",
       "      <td>ReLU</td>\n",
       "      <td>0.852912</td>\n",
       "      <td>ReLU</td>\n",
       "      <td>0.854017</td>\n",
       "      <td>ReLU</td>\n",
       "      <td>0.853464</td>\n",
       "    </tr>\n",
       "    <tr>\n",
       "      <th>HL Size</th>\n",
       "      <td>32</td>\n",
       "      <td>0.852912</td>\n",
       "      <td>32</td>\n",
       "      <td>0.854017</td>\n",
       "      <td>32</td>\n",
       "      <td>0.853464</td>\n",
       "    </tr>\n",
       "    <tr>\n",
       "      <th>Bias Initializer</th>\n",
       "      <td>ones</td>\n",
       "      <td>0.852912</td>\n",
       "      <td>zeros</td>\n",
       "      <td>0.854017</td>\n",
       "      <td>glorot_uniform</td>\n",
       "      <td>0.853464</td>\n",
       "    </tr>\n",
       "    <tr>\n",
       "      <th>Kernal Initializer</th>\n",
       "      <td>Random Uniform</td>\n",
       "      <td>0.852912</td>\n",
       "      <td>Random Uniform</td>\n",
       "      <td>0.854017</td>\n",
       "      <td>Random Uniform</td>\n",
       "      <td>0.853464</td>\n",
       "    </tr>\n",
       "  </tbody>\n",
       "</table>\n",
       "</div>"
      ],
      "text/plain": [
       "                             Setup1  Accuracy1          Setup2  Accuracy2  \\\n",
       "Activation Function            ReLU   0.852912            ReLU   0.854017   \n",
       "HL Size                          32   0.852912              32   0.854017   \n",
       "Bias Initializer               ones   0.852912           zeros   0.854017   \n",
       "Kernal Initializer   Random Uniform   0.852912  Random Uniform   0.854017   \n",
       "\n",
       "                             Setup3  Accuracy3  \n",
       "Activation Function            ReLU   0.853464  \n",
       "HL Size                          32   0.853464  \n",
       "Bias Initializer     glorot_uniform   0.853464  \n",
       "Kernal Initializer   Random Uniform   0.853464  "
      ]
     },
     "execution_count": 150,
     "metadata": {},
     "output_type": "execute_result"
    }
   ],
   "source": [
    "model_1 = fit_nn_model('relu','random_uniform','ones',32)\n",
    "model_2 = fit_nn_model('relu','random_uniform','zeros',32)\n",
    "model_3 = fit_nn_model('relu','random_uniform','glorot_uniform',32)\n",
    "\n",
    "test_accuracy_1 = get_test_accuracy(model_1)\n",
    "test_accuracy_2 = get_test_accuracy(model_2)\n",
    "test_accuracy_3 = get_test_accuracy(model_3)\n",
    "\n",
    "pd.DataFrame({'Setup1':['ReLU','32','ones','Random Uniform'],\n",
    "             'Accuracy1':test_accuracy_1,\n",
    "             'Setup2':['ReLU','32','zeros','Random Uniform'],\n",
    "             'Accuracy2':test_accuracy_2,\n",
    "             'Setup3':['ReLU','32','glorot_uniform','Random Uniform'],\n",
    "             'Accuracy3':test_accuracy_3},\n",
    "             index=index_labels)"
   ]
  },
  {
   "cell_type": "code",
   "execution_count": 151,
   "id": "b23cb7c7",
   "metadata": {},
   "outputs": [
    {
     "data": {
      "text/html": [
       "<div>\n",
       "<style scoped>\n",
       "    .dataframe tbody tr th:only-of-type {\n",
       "        vertical-align: middle;\n",
       "    }\n",
       "\n",
       "    .dataframe tbody tr th {\n",
       "        vertical-align: top;\n",
       "    }\n",
       "\n",
       "    .dataframe thead th {\n",
       "        text-align: right;\n",
       "    }\n",
       "</style>\n",
       "<table border=\"1\" class=\"dataframe\">\n",
       "  <thead>\n",
       "    <tr style=\"text-align: right;\">\n",
       "      <th></th>\n",
       "      <th>Setup1</th>\n",
       "      <th>Accuracy1</th>\n",
       "      <th>Setup2</th>\n",
       "      <th>Accuracy2</th>\n",
       "      <th>Setup3</th>\n",
       "      <th>Accuracy3</th>\n",
       "    </tr>\n",
       "  </thead>\n",
       "  <tbody>\n",
       "    <tr>\n",
       "      <th>Activation Function</th>\n",
       "      <td>ReLU</td>\n",
       "      <td>0.852912</td>\n",
       "      <td>ReLU</td>\n",
       "      <td>0.854128</td>\n",
       "      <td>ReLU</td>\n",
       "      <td>0.853133</td>\n",
       "    </tr>\n",
       "    <tr>\n",
       "      <th>HL Size</th>\n",
       "      <td>32</td>\n",
       "      <td>0.852912</td>\n",
       "      <td>32</td>\n",
       "      <td>0.854128</td>\n",
       "      <td>32</td>\n",
       "      <td>0.853133</td>\n",
       "    </tr>\n",
       "    <tr>\n",
       "      <th>Bias Initializer</th>\n",
       "      <td>ones</td>\n",
       "      <td>0.852912</td>\n",
       "      <td>ones</td>\n",
       "      <td>0.854128</td>\n",
       "      <td>ones</td>\n",
       "      <td>0.853133</td>\n",
       "    </tr>\n",
       "    <tr>\n",
       "      <th>Kernal Initializer</th>\n",
       "      <td>Random Uniform</td>\n",
       "      <td>0.852912</td>\n",
       "      <td>Glorot Uniform</td>\n",
       "      <td>0.854128</td>\n",
       "      <td>Random Normal</td>\n",
       "      <td>0.853133</td>\n",
       "    </tr>\n",
       "  </tbody>\n",
       "</table>\n",
       "</div>"
      ],
      "text/plain": [
       "                             Setup1  Accuracy1          Setup2  Accuracy2  \\\n",
       "Activation Function            ReLU   0.852912            ReLU   0.854128   \n",
       "HL Size                          32   0.852912              32   0.854128   \n",
       "Bias Initializer               ones   0.852912            ones   0.854128   \n",
       "Kernal Initializer   Random Uniform   0.852912  Glorot Uniform   0.854128   \n",
       "\n",
       "                            Setup3  Accuracy3  \n",
       "Activation Function           ReLU   0.853133  \n",
       "HL Size                         32   0.853133  \n",
       "Bias Initializer              ones   0.853133  \n",
       "Kernal Initializer   Random Normal   0.853133  "
      ]
     },
     "execution_count": 151,
     "metadata": {},
     "output_type": "execute_result"
    }
   ],
   "source": [
    "model_1 = fit_nn_model('relu','random_uniform','ones',32)\n",
    "model_2 = fit_nn_model('relu','glorot_uniform','ones',32)\n",
    "model_3 = fit_nn_model('relu','random_normal','ones',32)\n",
    "\n",
    "test_accuracy_1 = get_test_accuracy(model_1)\n",
    "test_accuracy_2 = get_test_accuracy(model_2)\n",
    "test_accuracy_3 = get_test_accuracy(model_3)\n",
    "\n",
    "pd.DataFrame({'Setup1':['ReLU','32','ones','Random Uniform'],\n",
    "             'Accuracy1':test_accuracy_1,\n",
    "             'Setup2':['ReLU','32','ones','Glorot Uniform'],\n",
    "             'Accuracy2':test_accuracy_2,\n",
    "             'Setup3':['ReLU','32','ones','Random Normal'],\n",
    "             'Accuracy3':test_accuracy_3},\n",
    "             index=index_labels)"
   ]
  },
  {
   "cell_type": "markdown",
   "id": "3ff173f3",
   "metadata": {},
   "source": [
    "#### Step 3: After completing step 2, choose a model setup that returns the best accuracy and use it as a 'base' model. In deep learning frameworks there is a number of new methods that help to increase the training speed, accuracy, etc.. Find and try at least 4 different methods.\n",
    "\n",
    "First I tried early stopping which diminished the test error but only by about half a percent. The benefit of it was a much shorter runtime.\n",
    "\n",
    "Next came reducing learning rate upon a plateau, which appears to have changed literally nothing. Both the runtime and the accuracy remained the same.\n",
    "\n",
    "Following that, batch size was tried (batch of 120) which retained identical accuracy to the original model but it cut down runtime by a quarter. It wasn't quite as fast as using the early stopping. So either would be considered better than the original, but it depends how much you need that extra bit of accuracy.\n",
    "\n",
    "Lastly, we arrive at TerminateOnNaN, another callback from the keras library which, while not practical at this stage of development could be WILDLY important when experimenting early on. Naturally, this has the same runtime and accuracy as the base model."
   ]
  },
  {
   "cell_type": "code",
   "execution_count": 159,
   "id": "0fb5f664",
   "metadata": {},
   "outputs": [
    {
     "name": "stdout",
     "output_type": "stream",
     "text": [
      "11.3 s ± 109 ms per loop (mean ± std. dev. of 7 runs, 1 loop each)\n"
     ]
    },
    {
     "data": {
      "text/plain": [
       "0.8529119239694994"
      ]
     },
     "execution_count": 159,
     "metadata": {},
     "output_type": "execute_result"
    }
   ],
   "source": [
    "%timeit model = fit_nn_model('relu','random_uniform','ones',64)\n",
    "get_test_accuracy(model)"
   ]
  },
  {
   "cell_type": "code",
   "execution_count": 156,
   "id": "3038f426",
   "metadata": {},
   "outputs": [
    {
     "name": "stdout",
     "output_type": "stream",
     "text": [
      "2.31 s ± 52.4 ms per loop (mean ± std. dev. of 7 runs, 1 loop each)\n"
     ]
    },
    {
     "data": {
      "text/plain": [
       "0.8463918665045861"
      ]
     },
     "execution_count": 156,
     "metadata": {},
     "output_type": "execute_result"
    }
   ],
   "source": [
    "def fit_nn_model(act_function,kern_initializer,bias,hl_size):    \n",
    "    tf.random.set_seed(12)\n",
    "    callback = keras.callbacks.EarlyStopping(monitor='loss')\n",
    "    model = keras.models.Sequential()\n",
    "\n",
    "    model.add(keras.layers.Dense(units=hl_size,input_dim=X_train.shape[1],bias_initializer=bias,\n",
    "                                 kernel_initializer=kern_initializer,activation=act_function))\n",
    "    model.add(keras.layers.Dense(units=hl_size,input_dim=hl_size,bias_initializer=bias,\n",
    "                                 kernel_initializer=kern_initializer,activation=act_function))\n",
    "    model.add(keras.layers.Dense(units=hl_size,input_dim=hl_size,bias_initializer=bias,\n",
    "                                 kernel_initializer=kern_initializer,activation=act_function))\n",
    "    model.add(keras.layers.Dense(units=hl_size,input_dim=hl_size,bias_initializer=bias,\n",
    "                                 kernel_initializer=kern_initializer,activation=act_function))\n",
    "    model.add(keras.layers.Dense(units=1,input_dim=hl_size,bias_initializer=bias,\n",
    "                                 kernel_initializer=kern_initializer,activation='sigmoid'))\n",
    "\n",
    "    model.compile(optimizer='adam',loss='binary_crossentropy')\n",
    "    model.fit(X_train,y_train,epochs=12,verbose=0,callbacks=[callback])\n",
    "    return model\n",
    "\n",
    "%timeit model = fit_nn_model('relu','random_uniform','ones',64)\n",
    "get_test_accuracy(model)"
   ]
  },
  {
   "cell_type": "code",
   "execution_count": 162,
   "id": "449e0250",
   "metadata": {},
   "outputs": [
    {
     "name": "stdout",
     "output_type": "stream",
     "text": [
      "3.95 s ± 42.5 ms per loop (mean ± std. dev. of 7 runs, 1 loop each)\n"
     ]
    },
    {
     "data": {
      "text/plain": [
       "0.8529119239694994"
      ]
     },
     "execution_count": 162,
     "metadata": {},
     "output_type": "execute_result"
    }
   ],
   "source": [
    "def fit_nn_model(act_function,kern_initializer,bias,hl_size):    \n",
    "    tf.random.set_seed(12)\n",
    "    model = keras.models.Sequential()\n",
    "\n",
    "    model.add(keras.layers.Dense(units=hl_size,input_dim=X_train.shape[1],bias_initializer=bias,\n",
    "                                 kernel_initializer=kern_initializer,activation=act_function))\n",
    "    model.add(keras.layers.Dense(units=hl_size,input_dim=hl_size,bias_initializer=bias,\n",
    "                                 kernel_initializer=kern_initializer,activation=act_function))\n",
    "    model.add(keras.layers.Dense(units=hl_size,input_dim=hl_size,bias_initializer=bias,\n",
    "                                 kernel_initializer=kern_initializer,activation=act_function))\n",
    "    model.add(keras.layers.Dense(units=hl_size,input_dim=hl_size,bias_initializer=bias,\n",
    "                                 kernel_initializer=kern_initializer,activation=act_function))\n",
    "    model.add(keras.layers.Dense(units=1,input_dim=hl_size,bias_initializer=bias,\n",
    "                                 kernel_initializer=kern_initializer,activation='sigmoid'))\n",
    "\n",
    "    model.compile(optimizer='adam',loss='binary_crossentropy')\n",
    "    model.fit(X_train,y_train,epochs=12,verbose=0,batch_size=120)\n",
    "    return model\n",
    "\n",
    "%timeit model = fit_nn_model('relu','random_uniform','ones',64)\n",
    "get_test_accuracy(model)"
   ]
  },
  {
   "cell_type": "code",
   "execution_count": 164,
   "id": "d9942b96",
   "metadata": {},
   "outputs": [
    {
     "name": "stdout",
     "output_type": "stream",
     "text": [
      "11.4 s ± 59.1 ms per loop (mean ± std. dev. of 7 runs, 1 loop each)\n"
     ]
    },
    {
     "data": {
      "text/plain": [
       "0.8529119239694994"
      ]
     },
     "execution_count": 164,
     "metadata": {},
     "output_type": "execute_result"
    }
   ],
   "source": [
    "def fit_nn_model(act_function,kern_initializer,bias,hl_size):    \n",
    "    tf.random.set_seed(12)\n",
    "    callback = keras.callbacks.TerminateOnNaN()\n",
    "    model = keras.models.Sequential()\n",
    "\n",
    "    model.add(keras.layers.Dense(units=hl_size,input_dim=X_train.shape[1],bias_initializer=bias,\n",
    "                                 kernel_initializer=kern_initializer,activation=act_function))\n",
    "    model.add(keras.layers.Dense(units=hl_size,input_dim=hl_size,bias_initializer=bias,\n",
    "                                 kernel_initializer=kern_initializer,activation=act_function))\n",
    "    model.add(keras.layers.Dense(units=hl_size,input_dim=hl_size,bias_initializer=bias,\n",
    "                                 kernel_initializer=kern_initializer,activation=act_function))\n",
    "    model.add(keras.layers.Dense(units=hl_size,input_dim=hl_size,bias_initializer=bias,\n",
    "                                 kernel_initializer=kern_initializer,activation=act_function))\n",
    "    model.add(keras.layers.Dense(units=1,input_dim=hl_size,bias_initializer=bias,\n",
    "                                 kernel_initializer=kern_initializer,activation='sigmoid'))\n",
    "\n",
    "    model.compile(optimizer='adam',loss='binary_crossentropy')\n",
    "    model.fit(X_train,y_train,epochs=12,verbose=0)\n",
    "    return model\n",
    "\n",
    "%timeit model = fit_nn_model('relu','random_uniform','ones',64)\n",
    "get_test_accuracy(model)"
   ]
  },
  {
   "cell_type": "markdown",
   "id": "7e8ed5e1",
   "metadata": {},
   "source": [
    "## Part 3: Building a CNN\n",
    "\n",
    "#### Step 1: Load, preprocess, and analyze the dataset and make it ready for training."
   ]
  },
  {
   "cell_type": "code",
   "execution_count": 2,
   "id": "a1c72f78",
   "metadata": {},
   "outputs": [],
   "source": [
    "(X_train,y_train),(X_test,y_test) = keras.datasets.fashion_mnist.load_data()"
   ]
  },
  {
   "cell_type": "markdown",
   "id": "5a5276ca",
   "metadata": {},
   "source": [
    "As explained in the assignment prompt, this is a dataset of 28x28 grayscale images. The labels are numbers between 0 and 9, each representing a category of clothes. The table below illustrates what number corresponds to what item of clothing. \n",
    "\n",
    "The data is loaded in with a train-test split of 60,000 to 10,000 which is about an 85% split."
   ]
  },
  {
   "cell_type": "code",
   "execution_count": 3,
   "id": "383a34b6",
   "metadata": {},
   "outputs": [
    {
     "data": {
      "text/html": [
       "<div>\n",
       "<style scoped>\n",
       "    .dataframe tbody tr th:only-of-type {\n",
       "        vertical-align: middle;\n",
       "    }\n",
       "\n",
       "    .dataframe tbody tr th {\n",
       "        vertical-align: top;\n",
       "    }\n",
       "\n",
       "    .dataframe thead th {\n",
       "        text-align: right;\n",
       "    }\n",
       "</style>\n",
       "<table border=\"1\" class=\"dataframe\">\n",
       "  <thead>\n",
       "    <tr style=\"text-align: right;\">\n",
       "      <th></th>\n",
       "      <th>Description</th>\n",
       "    </tr>\n",
       "  </thead>\n",
       "  <tbody>\n",
       "    <tr>\n",
       "      <th>0</th>\n",
       "      <td>T-shirt</td>\n",
       "    </tr>\n",
       "    <tr>\n",
       "      <th>1</th>\n",
       "      <td>Trouser</td>\n",
       "    </tr>\n",
       "    <tr>\n",
       "      <th>2</th>\n",
       "      <td>Pullover</td>\n",
       "    </tr>\n",
       "    <tr>\n",
       "      <th>3</th>\n",
       "      <td>Dress</td>\n",
       "    </tr>\n",
       "    <tr>\n",
       "      <th>4</th>\n",
       "      <td>Coat</td>\n",
       "    </tr>\n",
       "    <tr>\n",
       "      <th>5</th>\n",
       "      <td>Sandal</td>\n",
       "    </tr>\n",
       "    <tr>\n",
       "      <th>6</th>\n",
       "      <td>Shirt</td>\n",
       "    </tr>\n",
       "    <tr>\n",
       "      <th>7</th>\n",
       "      <td>Sneaker</td>\n",
       "    </tr>\n",
       "    <tr>\n",
       "      <th>8</th>\n",
       "      <td>Bag</td>\n",
       "    </tr>\n",
       "    <tr>\n",
       "      <th>9</th>\n",
       "      <td>Ankle boot</td>\n",
       "    </tr>\n",
       "  </tbody>\n",
       "</table>\n",
       "</div>"
      ],
      "text/plain": [
       "  Description\n",
       "0     T-shirt\n",
       "1     Trouser\n",
       "2    Pullover\n",
       "3       Dress\n",
       "4        Coat\n",
       "5      Sandal\n",
       "6       Shirt\n",
       "7     Sneaker\n",
       "8         Bag\n",
       "9  Ankle boot"
      ]
     },
     "execution_count": 3,
     "metadata": {},
     "output_type": "execute_result"
    }
   ],
   "source": [
    "label_list = [0,1,2,3,4,5,6,7,8,9]\n",
    "description_list = ['T-shirt','Trouser','Pullover','Dress','Coat','Sandal','Shirt','Sneaker','Bag','Ankle boot']\n",
    "pd.DataFrame(description_list,label_list,columns=['Description'])"
   ]
  },
  {
   "cell_type": "markdown",
   "id": "4c94cb92",
   "metadata": {},
   "source": [
    "## Build and Train a Basic CNN (with max 3 hidden layers). \n",
    "\n",
    "## Decide your CNN architecture: \n",
    "\n",
    " - How many input neurons are there?\n",
    " \n",
    " - What activation function will you choose?\n",
    " \n",
    " - What is the number of hidden layers? (1, 2, or 3)\n",
    " \n",
    " - What is the kernel size, number of filters, strides, padding, etc.?\n",
    " \n",
    " - What activation function is used for the hidden and output layer?"
   ]
  },
  {
   "cell_type": "code",
   "execution_count": 215,
   "id": "0e4cba56",
   "metadata": {},
   "outputs": [
    {
     "name": "stdout",
     "output_type": "stream",
     "text": [
      "Epoch 1/7\n",
      "1875/1875 [==============================] - 58s 26ms/step - loss: 0.5131 - accuracy: 0.8164 - val_loss: 0.3837 - val_accuracy: 0.8604\n",
      "Epoch 2/7\n",
      "1875/1875 [==============================] - 29s 15ms/step - loss: 0.3213 - accuracy: 0.8843 - val_loss: 0.3182 - val_accuracy: 0.8871\n",
      "Epoch 3/7\n",
      "1875/1875 [==============================] - 29s 15ms/step - loss: 0.2844 - accuracy: 0.8969 - val_loss: 0.3194 - val_accuracy: 0.8890\n",
      "Epoch 4/7\n",
      "1875/1875 [==============================] - 29s 15ms/step - loss: 0.2614 - accuracy: 0.9035 - val_loss: 0.3026 - val_accuracy: 0.8917\n",
      "Epoch 5/7\n",
      "1875/1875 [==============================] - 28s 15ms/step - loss: 0.2448 - accuracy: 0.9094 - val_loss: 0.3160 - val_accuracy: 0.8919\n",
      "Epoch 6/7\n",
      "1875/1875 [==============================] - 31s 17ms/step - loss: 0.2305 - accuracy: 0.9140 - val_loss: 0.3065 - val_accuracy: 0.8936\n",
      "Epoch 7/7\n",
      "1875/1875 [==============================] - 29s 15ms/step - loss: 0.2172 - accuracy: 0.9197 - val_loss: 0.2635 - val_accuracy: 0.9090\n"
     ]
    }
   ],
   "source": [
    "tf.random.set_seed(12)\n",
    "\n",
    "act_func = 'relu'\n",
    "kernel_initializer = 'glorot_uniform'\n",
    "dropout_rate = 0.12\n",
    "optimizer = 'adam'\n",
    "\n",
    "model = keras.models.Sequential()\n",
    "model.add(keras.layers.Conv2D(32,(4,4),padding='same',activation=act_func,\n",
    "                              kernel_initializer=kernel_initializer,input_shape=(28,28,1)))\n",
    "model.add(keras.layers.MaxPooling2D(3,3))\n",
    "model.add(keras.layers.Conv2D(64,(3,3),padding='same',activation=act_func,\n",
    "                              kernel_initializer=kernel_initializer))\n",
    "model.add(keras.layers.AveragePooling2D(3,3))\n",
    "model.add(keras.layers.Conv2D(32,(3,3),padding='same',activation=act_func,\n",
    "                              kernel_initializer=kernel_initializer))\n",
    "model.add(keras.layers.Conv2D(32,(3,3),padding='same',activation=act_func,\n",
    "                              kernel_initializer=kernel_initializer))\n",
    "model.add(keras.layers.MaxPooling2D(3,3))\n",
    "model.add(keras.layers.Flatten())\n",
    "model.add(keras.layers.Dense(128,activation=act_func))\n",
    "model.add(keras.layers.Dropout(dropout_rate))\n",
    "model.add(keras.layers.Dense(10,activation='softmax'))\n",
    "\n",
    "model.compile(optimizer=optimizer,loss='sparse_categorical_crossentropy',metrics=['accuracy'])\n",
    "history_0 = model.fit(X_train,y_train,epochs=7,validation_data=(X_test,y_test),verbose=1)"
   ]
  },
  {
   "cell_type": "code",
   "execution_count": 132,
   "id": "48402b93",
   "metadata": {},
   "outputs": [
    {
     "name": "stdout",
     "output_type": "stream",
     "text": [
      "Model: \"sequential_121\"\n",
      "_________________________________________________________________\n",
      " Layer (type)                Output Shape              Param #   \n",
      "=================================================================\n",
      " conv2d_367 (Conv2D)         (None, 28, 28, 32)        544       \n",
      "                                                                 \n",
      " max_pooling2d_206 (MaxPooli  (None, 9, 9, 32)         0         \n",
      " ng2D)                                                           \n",
      "                                                                 \n",
      " conv2d_368 (Conv2D)         (None, 9, 9, 64)          18496     \n",
      "                                                                 \n",
      " average_pooling2d_14 (Avera  (None, 3, 3, 64)         0         \n",
      " gePooling2D)                                                    \n",
      "                                                                 \n",
      " conv2d_369 (Conv2D)         (None, 3, 3, 32)          18464     \n",
      "                                                                 \n",
      " conv2d_370 (Conv2D)         (None, 3, 3, 32)          9248      \n",
      "                                                                 \n",
      " max_pooling2d_207 (MaxPooli  (None, 1, 1, 32)         0         \n",
      " ng2D)                                                           \n",
      "                                                                 \n",
      " flatten_79 (Flatten)        (None, 32)                0         \n",
      "                                                                 \n",
      " dense_151 (Dense)           (None, 128)               4224      \n",
      "                                                                 \n",
      " dropout_27 (Dropout)        (None, 128)               0         \n",
      "                                                                 \n",
      " dense_152 (Dense)           (None, 10)                1290      \n",
      "                                                                 \n",
      "=================================================================\n",
      "Total params: 52,266\n",
      "Trainable params: 52,266\n",
      "Non-trainable params: 0\n",
      "_________________________________________________________________\n"
     ]
    }
   ],
   "source": [
    "model.summary()"
   ]
  },
  {
   "cell_type": "markdown",
   "id": "33c9fece",
   "metadata": {},
   "source": [
    "## Add all the improvement methods that you tried for \"Part III Step 3\" of this assignment, that are applicable to CNN architecture (e.g. earlystopping).\n",
    "\n",
    "Only batch_size and EarlyStopping were implemented here since TerminateOnNaN wouldn't even apply here, just like in the last one. Therefore, I won't even bother typing it into the code."
   ]
  },
  {
   "cell_type": "code",
   "execution_count": 133,
   "id": "8b7f0d8e",
   "metadata": {},
   "outputs": [
    {
     "name": "stdout",
     "output_type": "stream",
     "text": [
      "Epoch 1/7\n",
      "500/500 [==============================] - 24s 47ms/step - loss: 0.6538 - accuracy: 0.7750 - val_loss: 0.4335 - val_accuracy: 0.8386\n",
      "Epoch 2/7\n",
      "500/500 [==============================] - 23s 46ms/step - loss: 0.3691 - accuracy: 0.8663 - val_loss: 0.3413 - val_accuracy: 0.8760\n"
     ]
    }
   ],
   "source": [
    "tf.random.set_seed(12)\n",
    "model = keras.models.Sequential()\n",
    "callback = keras.callbacks.EarlyStopping(monitor='loss')\n",
    "model.add(keras.layers.Conv2D(32,(4,4),padding='same',activation=act_func,\n",
    "                              kernel_initializer=kernel_initializer,input_shape=(28,28,1)))\n",
    "model.add(keras.layers.MaxPooling2D(3,3))\n",
    "model.add(keras.layers.Conv2D(64,(3,3),padding='same',activation=act_func,\n",
    "                              kernel_initializer=kernel_initializer))\n",
    "model.add(keras.layers.AveragePooling2D(3,3))\n",
    "model.add(keras.layers.Conv2D(32,(3,3),padding='same',activation=act_func,\n",
    "                              kernel_initializer=kernel_initializer))\n",
    "model.add(keras.layers.Conv2D(32,(3,3),padding='same',activation=act_func,\n",
    "                              kernel_initializer=kernel_initializer))\n",
    "model.add(keras.layers.MaxPooling2D(3,3))\n",
    "model.add(keras.layers.Flatten())\n",
    "model.add(keras.layers.Dense(128,activation=act_func))\n",
    "model.add(keras.layers.Dropout(dropout_rate))\n",
    "model.add(keras.layers.Dense(10,activation='softmax'))\n",
    "\n",
    "model.compile(optimizer=optimizer,loss='sparse_categorical_crossentropy',metrics=['accuracy'])\n",
    "history_1 = model.fit(X_train,y_train,epochs=7,validation_data=(X_test,y_test),\n",
    "                    batch_size=120,callbacks=[callback],verbose=1)"
   ]
  },
  {
   "cell_type": "markdown",
   "id": "833530d6",
   "metadata": {},
   "source": [
    "The graphs below are for the original model, without EarlyStopping and a different batch size. This is solely due to EarlyStopping making the model stop after only 2 epochs which makes for an uninteresting graph. \n",
    "\n",
    "The loss graph (the detail the EarlyStopping monitors) illustrates why it stops after 2 epochs, there is quite the distinct elbow, even though the loss does keep going down consistently. Furthermore, the test loss even goes up after the second epoch.\n",
    "\n",
    "Altering the batch_size argument in the fit call is primarily for internal arguments. The default argument is 32, but giving an argument of 120 is well within reason. A smaller batch would have made the model fit more quickly, but the runtime (sometime around 3.5 minutes), while inconvenient, is definitely tolerable. So we can handle a larger batch size for a little bit more accuracy. All the same, EarlyStopping makes this a moot point."
   ]
  },
  {
   "cell_type": "code",
   "execution_count": 135,
   "id": "67ce2457",
   "metadata": {},
   "outputs": [
    {
     "data": {
      "image/png": "[encoded data removed]",
      "text/plain": [
       "<Figure size 432x288 with 1 Axes>"
      ]
     },
     "metadata": {
      "needs_background": "light"
     },
     "output_type": "display_data"
    }
   ],
   "source": [
    "plt.plot(history_0.history['loss'])\n",
    "plt.plot(history_0.history['val_loss'])\n",
    "plt.title('Train Loss and Test Loss')\n",
    "plt.xlabel('Epoch')\n",
    "plt.ylabel('Loss')\n",
    "plt.legend(['Train Loss','Test Loss'])\n",
    "plt.show()"
   ]
  },
  {
   "cell_type": "code",
   "execution_count": 136,
   "id": "126576aa",
   "metadata": {},
   "outputs": [
    {
     "data": {
      "image/png": "[encoded data removed]",
      "text/plain": [
       "<Figure size 432x288 with 1 Axes>"
      ]
     },
     "metadata": {
      "needs_background": "light"
     },
     "output_type": "display_data"
    }
   ],
   "source": [
    "plt.plot(history_0.history['accuracy'])\n",
    "plt.plot(history_0.history['val_accuracy'])\n",
    "plt.title('Train Accuracy and Test Accuracy')\n",
    "plt.xlabel('Epoch')\n",
    "plt.ylabel('Accuracy')\n",
    "plt.legend(['Train Accuracy','Test Accuracy'])\n",
    "plt.show()"
   ]
  },
  {
   "cell_type": "markdown",
   "id": "96c7c38b",
   "metadata": {},
   "source": [
    "## Test your NN on the testing dataset. It shows the effectiveness of your model's generalization power gained by learning.\n",
    "\n",
    "As the validation data was made to be the testing data, each epoch prints out the test accuracy."
   ]
  },
  {
   "cell_type": "markdown",
   "id": "0ae2c6ae",
   "metadata": {},
   "source": [
    "## Part IV: Optimizing CNN + Data Augmentation\n",
    "\n",
    "## Based on your CNN model defined in Part III, play with various hyperparameters and different tools to increase the accuracy. Try various setups and draw conclusions.\n",
    "\n",
    "### Step 1: Choose one hyperparameter to modify. Fix the CNN structure and all other parameters, and change values only for your chosen hyperparameter. Provide the results in a form of a table below."
   ]
  },
  {
   "cell_type": "code",
   "execution_count": 138,
   "id": "21efba59",
   "metadata": {},
   "outputs": [],
   "source": [
    "def fit_cnn_model(optimizer,act_func,dropout_rate,kernel_initializer):\n",
    "    tf.random.set_seed(12)\n",
    "    callback = keras.callbacks.EarlyStopping(monitor='loss')\n",
    "    model = keras.models.Sequential()\n",
    "    model.add(keras.layers.Conv2D(32,(4,4),padding='same',activation=act_func,\n",
    "                                  kernel_initializer=kernel_initializer,input_shape=(28,28,1)))\n",
    "    model.add(keras.layers.MaxPooling2D(3,3))\n",
    "    model.add(keras.layers.Conv2D(64,(3,3),padding='same',activation=act_func,\n",
    "                                  kernel_initializer=kernel_initializer))\n",
    "    model.add(keras.layers.AveragePooling2D(3,3))\n",
    "    model.add(keras.layers.Conv2D(32,(3,3),padding='same',activation=act_func,\n",
    "                                  kernel_initializer=kernel_initializer))\n",
    "    model.add(keras.layers.Conv2D(32,(3,3),padding='same',activation=act_func,\n",
    "                                  kernel_initializer=kernel_initializer))\n",
    "    model.add(keras.layers.MaxPooling2D(3,3))\n",
    "    model.add(keras.layers.Flatten())\n",
    "    model.add(keras.layers.Dense(128,activation=act_func))\n",
    "    model.add(keras.layers.Dropout(dropout_rate))\n",
    "    model.add(keras.layers.Dense(10,activation='softmax'))\n",
    "\n",
    "    model.compile(optimizer=optimizer,loss='sparse_categorical_crossentropy',metrics=['accuracy'])\n",
    "    history = model.fit(X_train,y_train,epochs=7,validation_data=(X_test,y_test),\n",
    "                        callbacks=[callback],batch_size=120,verbose=0)\n",
    "    \n",
    "    return history"
   ]
  },
  {
   "cell_type": "code",
   "execution_count": 139,
   "id": "9e96cada",
   "metadata": {},
   "outputs": [
    {
     "data": {
      "text/html": [
       "<div>\n",
       "<style scoped>\n",
       "    .dataframe tbody tr th:only-of-type {\n",
       "        vertical-align: middle;\n",
       "    }\n",
       "\n",
       "    .dataframe tbody tr th {\n",
       "        vertical-align: top;\n",
       "    }\n",
       "\n",
       "    .dataframe thead th {\n",
       "        text-align: right;\n",
       "    }\n",
       "</style>\n",
       "<table border=\"1\" class=\"dataframe\">\n",
       "  <thead>\n",
       "    <tr style=\"text-align: right;\">\n",
       "      <th></th>\n",
       "      <th>Setup1</th>\n",
       "      <th>Accuracy1</th>\n",
       "      <th>Setup2</th>\n",
       "      <th>Accuracy2</th>\n",
       "      <th>Setup3</th>\n",
       "      <th>Accuracy3</th>\n",
       "    </tr>\n",
       "  </thead>\n",
       "  <tbody>\n",
       "    <tr>\n",
       "      <th>Optimizer</th>\n",
       "      <td>adam</td>\n",
       "      <td>0.866267</td>\n",
       "      <td>sgd</td>\n",
       "      <td>0.822867</td>\n",
       "      <td>adagrad</td>\n",
       "      <td>0.752783</td>\n",
       "    </tr>\n",
       "    <tr>\n",
       "      <th>Activation Function</th>\n",
       "      <td>relu</td>\n",
       "      <td>0.866267</td>\n",
       "      <td>relu</td>\n",
       "      <td>0.822867</td>\n",
       "      <td>relu</td>\n",
       "      <td>0.752783</td>\n",
       "    </tr>\n",
       "    <tr>\n",
       "      <th>Dropout Rate</th>\n",
       "      <td>0.12</td>\n",
       "      <td>0.866267</td>\n",
       "      <td>0.12</td>\n",
       "      <td>0.822867</td>\n",
       "      <td>0.12</td>\n",
       "      <td>0.752783</td>\n",
       "    </tr>\n",
       "    <tr>\n",
       "      <th>Kernal Initializer</th>\n",
       "      <td>glorot_uniform</td>\n",
       "      <td>0.866267</td>\n",
       "      <td>glorot_uniform</td>\n",
       "      <td>0.822867</td>\n",
       "      <td>glorot_uniform</td>\n",
       "      <td>0.752783</td>\n",
       "    </tr>\n",
       "  </tbody>\n",
       "</table>\n",
       "</div>"
      ],
      "text/plain": [
       "                             Setup1  Accuracy1          Setup2  Accuracy2  \\\n",
       "Optimizer                      adam   0.866267             sgd   0.822867   \n",
       "Activation Function            relu   0.866267            relu   0.822867   \n",
       "Dropout Rate                   0.12   0.866267            0.12   0.822867   \n",
       "Kernal Initializer   glorot_uniform   0.866267  glorot_uniform   0.822867   \n",
       "\n",
       "                             Setup3  Accuracy3  \n",
       "Optimizer                   adagrad   0.752783  \n",
       "Activation Function            relu   0.752783  \n",
       "Dropout Rate                   0.12   0.752783  \n",
       "Kernal Initializer   glorot_uniform   0.752783  "
      ]
     },
     "execution_count": 139,
     "metadata": {},
     "output_type": "execute_result"
    }
   ],
   "source": [
    "index_labels = ['Optimizer','Activation Function','Dropout Rate','Kernal Initializer']\n",
    "\n",
    "optim_history_1 = fit_cnn_model('adam','relu',0.12,'glorot_uniform')\n",
    "optim_history_2 = fit_cnn_model('sgd','relu',0.12,'glorot_uniform')\n",
    "optim_history_3 = fit_cnn_model('adagrad','relu',0.12,'glorot_uniform')\n",
    "\n",
    "test_accuracy_1 = optim_history_1.history['accuracy'][1]\n",
    "test_accuracy_2 = optim_history_2.history['accuracy'][1]\n",
    "test_accuracy_3 = optim_history_3.history['accuracy'][1]\n",
    "\n",
    "pd.DataFrame({'Setup1':['adam','relu','0.12','glorot_uniform'],\n",
    "             'Accuracy1':test_accuracy_1,\n",
    "             'Setup2':['sgd','relu','0.12','glorot_uniform'],\n",
    "             'Accuracy2':test_accuracy_2,\n",
    "             'Setup3':['adagrad','relu','0.12','glorot_uniform'],\n",
    "             'Accuracy3':test_accuracy_3},\n",
    "             index=index_labels)"
   ]
  },
  {
   "cell_type": "markdown",
   "id": "b95de046",
   "metadata": {},
   "source": [
    "Given how much EarlyStopping limits the number of epochs, we arrive at sort of uninteresting graphs, but they're nice for comparing the accuracies of each optimizer. However, the optimizers have quite similar accuracies so visual comparisons aren't very fruitful."
   ]
  },
  {
   "cell_type": "code",
   "execution_count": 151,
   "id": "2e387208",
   "metadata": {},
   "outputs": [
    {
     "data": {
      "image/png": "[encoded data removed]",
      "text/plain": [
       "<Figure size 432x288 with 3 Axes>"
      ]
     },
     "metadata": {
      "needs_background": "light"
     },
     "output_type": "display_data"
    }
   ],
   "source": [
    "fig,(ax1,ax2,ax3) = plt.subplots(1,3)\n",
    "plt.suptitle('Train Accuracy and Test Accuracy')\n",
    "\n",
    "ax1.plot(optim_history_1.history['accuracy'])\n",
    "ax1.plot(optim_history_1.history['val_accuracy'])\n",
    "ax1.set_title('Optimizer - Adam')\n",
    "ax1.set_xlabel('Epoch')\n",
    "ax1.set_ylabel('Accuracy')\n",
    "ax1.legend(['Train Accuracy','Test Accuracy'],loc='lower center')\n",
    "\n",
    "ax2.plot(optim_history_2.history['accuracy'])\n",
    "ax2.plot(optim_history_2.history['val_accuracy'])\n",
    "ax2.set_title('Optimizer - SGD')\n",
    "ax2.set_xlabel('Epoch')\n",
    "ax2.set_ylabel('Accuracy')\n",
    "ax2.legend(['Train Accuracy','Test Accuracy'],loc='lower center')\n",
    "\n",
    "ax3.plot(optim_history_3.history['accuracy'])\n",
    "ax3.plot(optim_history_3.history['val_accuracy'])\n",
    "ax3.set_title('Optimizer - Adagrad')\n",
    "ax3.set_xlabel('Epoch')\n",
    "ax3.set_ylabel('Accuracy')\n",
    "ax3.legend(['Train Accuracy','Test Accuracy'],loc='lower center')\n",
    "\n",
    "plt.show()"
   ]
  },
  {
   "cell_type": "code",
   "execution_count": 140,
   "id": "3b760939",
   "metadata": {},
   "outputs": [
    {
     "data": {
      "text/html": [
       "<div>\n",
       "<style scoped>\n",
       "    .dataframe tbody tr th:only-of-type {\n",
       "        vertical-align: middle;\n",
       "    }\n",
       "\n",
       "    .dataframe tbody tr th {\n",
       "        vertical-align: top;\n",
       "    }\n",
       "\n",
       "    .dataframe thead th {\n",
       "        text-align: right;\n",
       "    }\n",
       "</style>\n",
       "<table border=\"1\" class=\"dataframe\">\n",
       "  <thead>\n",
       "    <tr style=\"text-align: right;\">\n",
       "      <th></th>\n",
       "      <th>Setup1</th>\n",
       "      <th>Accuracy1</th>\n",
       "      <th>Setup2</th>\n",
       "      <th>Accuracy2</th>\n",
       "      <th>Setup3</th>\n",
       "      <th>Accuracy3</th>\n",
       "    </tr>\n",
       "  </thead>\n",
       "  <tbody>\n",
       "    <tr>\n",
       "      <th>Optimizer</th>\n",
       "      <td>adam</td>\n",
       "      <td>0.866267</td>\n",
       "      <td>adam</td>\n",
       "      <td>0.860317</td>\n",
       "      <td>adam</td>\n",
       "      <td>0.870783</td>\n",
       "    </tr>\n",
       "    <tr>\n",
       "      <th>Activation Function</th>\n",
       "      <td>relu</td>\n",
       "      <td>0.866267</td>\n",
       "      <td>tanh</td>\n",
       "      <td>0.860317</td>\n",
       "      <td>softplus</td>\n",
       "      <td>0.870783</td>\n",
       "    </tr>\n",
       "    <tr>\n",
       "      <th>Dropout Rate</th>\n",
       "      <td>0.12</td>\n",
       "      <td>0.866267</td>\n",
       "      <td>0.12</td>\n",
       "      <td>0.860317</td>\n",
       "      <td>0.12</td>\n",
       "      <td>0.870783</td>\n",
       "    </tr>\n",
       "    <tr>\n",
       "      <th>Kernal Initializer</th>\n",
       "      <td>glorot_uniform</td>\n",
       "      <td>0.866267</td>\n",
       "      <td>glorot_uniform</td>\n",
       "      <td>0.860317</td>\n",
       "      <td>glorot_uniform</td>\n",
       "      <td>0.870783</td>\n",
       "    </tr>\n",
       "  </tbody>\n",
       "</table>\n",
       "</div>"
      ],
      "text/plain": [
       "                             Setup1  Accuracy1          Setup2  Accuracy2  \\\n",
       "Optimizer                      adam   0.866267            adam   0.860317   \n",
       "Activation Function            relu   0.866267            tanh   0.860317   \n",
       "Dropout Rate                   0.12   0.866267            0.12   0.860317   \n",
       "Kernal Initializer   glorot_uniform   0.866267  glorot_uniform   0.860317   \n",
       "\n",
       "                             Setup3  Accuracy3  \n",
       "Optimizer                      adam   0.870783  \n",
       "Activation Function        softplus   0.870783  \n",
       "Dropout Rate                   0.12   0.870783  \n",
       "Kernal Initializer   glorot_uniform   0.870783  "
      ]
     },
     "execution_count": 140,
     "metadata": {},
     "output_type": "execute_result"
    }
   ],
   "source": [
    "index_labels = ['Optimizer','Activation Function','Dropout Rate','Kernal Initializer']\n",
    "\n",
    "activation_history_1 = fit_cnn_model('adam','relu',0.12,'glorot_uniform')\n",
    "activation_history_2 = fit_cnn_model('adam','tanh',0.12,'glorot_uniform')\n",
    "activation_history_3 = fit_cnn_model('adam','softplus',0.12,'glorot_uniform')\n",
    "\n",
    "test_accuracy_1 = activation_history_1.history['accuracy'][1]\n",
    "test_accuracy_2 = activation_history_2.history['accuracy'][1]\n",
    "test_accuracy_3 = activation_history_3.history['accuracy'][1]\n",
    "\n",
    "pd.DataFrame({'Setup1':['adam','relu','0.12','glorot_uniform'],\n",
    "             'Accuracy1':test_accuracy_1,\n",
    "             'Setup2':['adam','tanh','0.12','glorot_uniform'],\n",
    "             'Accuracy2':test_accuracy_2,\n",
    "             'Setup3':['adam','softplus','0.12','glorot_uniform'],\n",
    "             'Accuracy3':test_accuracy_3},\n",
    "             index=index_labels)"
   ]
  },
  {
   "cell_type": "code",
   "execution_count": 152,
   "id": "3f10b20b",
   "metadata": {},
   "outputs": [
    {
     "data": {
      "image/png": "[encoded data removed]",
      "text/plain": [
       "<Figure size 432x288 with 3 Axes>"
      ]
     },
     "metadata": {
      "needs_background": "light"
     },
     "output_type": "display_data"
    }
   ],
   "source": [
    "fig,(ax1,ax2,ax3) = plt.subplots(1,3)\n",
    "plt.suptitle('Train Accuracy and Test Accuracy')\n",
    "\n",
    "ax1.plot(activation_history_1.history['accuracy'])\n",
    "ax1.plot(activation_history_1.history['val_accuracy'])\n",
    "ax1.set_title('Activation - ReLU')\n",
    "ax1.set_xlabel('Epoch')\n",
    "ax1.set_ylabel('Accuracy')\n",
    "ax1.legend(['Train Accuracy','Test Accuracy'],loc='lower center')\n",
    "\n",
    "ax2.plot(activation_history_2.history['accuracy'])\n",
    "ax2.plot(activation_history_2.history['val_accuracy'])\n",
    "ax2.set_title('Activation - tanh')\n",
    "ax2.set_xlabel('Epoch')\n",
    "ax2.set_ylabel('Accuracy')\n",
    "ax2.legend(['Train Accuracy','Test Accuracy'],loc='lower center')\n",
    "\n",
    "ax3.plot(activation_history_3.history['accuracy'])\n",
    "ax3.plot(activation_history_3.history['val_accuracy'])\n",
    "ax3.set_title('Activation - softplus')\n",
    "ax3.set_xlabel('Epoch')\n",
    "ax3.set_ylabel('Accuracy')\n",
    "ax3.legend(['Train Accuracy','Test Accuracy'],loc='lower center')\n",
    "\n",
    "plt.show()"
   ]
  },
  {
   "cell_type": "code",
   "execution_count": 141,
   "id": "639a3832",
   "metadata": {},
   "outputs": [
    {
     "data": {
      "text/html": [
       "<div>\n",
       "<style scoped>\n",
       "    .dataframe tbody tr th:only-of-type {\n",
       "        vertical-align: middle;\n",
       "    }\n",
       "\n",
       "    .dataframe tbody tr th {\n",
       "        vertical-align: top;\n",
       "    }\n",
       "\n",
       "    .dataframe thead th {\n",
       "        text-align: right;\n",
       "    }\n",
       "</style>\n",
       "<table border=\"1\" class=\"dataframe\">\n",
       "  <thead>\n",
       "    <tr style=\"text-align: right;\">\n",
       "      <th></th>\n",
       "      <th>Setup1</th>\n",
       "      <th>Accuracy1</th>\n",
       "      <th>Setup2</th>\n",
       "      <th>Accuracy2</th>\n",
       "      <th>Setup3</th>\n",
       "      <th>Accuracy3</th>\n",
       "    </tr>\n",
       "  </thead>\n",
       "  <tbody>\n",
       "    <tr>\n",
       "      <th>Optimizer</th>\n",
       "      <td>adam</td>\n",
       "      <td>0.8752</td>\n",
       "      <td>adam</td>\n",
       "      <td>0.866233</td>\n",
       "      <td>adam</td>\n",
       "      <td>0.8596</td>\n",
       "    </tr>\n",
       "    <tr>\n",
       "      <th>Activation Function</th>\n",
       "      <td>relu</td>\n",
       "      <td>0.8752</td>\n",
       "      <td>relu</td>\n",
       "      <td>0.866233</td>\n",
       "      <td>relu</td>\n",
       "      <td>0.8596</td>\n",
       "    </tr>\n",
       "    <tr>\n",
       "      <th>Dropout Rate</th>\n",
       "      <td>0.06</td>\n",
       "      <td>0.8752</td>\n",
       "      <td>0.24</td>\n",
       "      <td>0.866233</td>\n",
       "      <td>0.36</td>\n",
       "      <td>0.8596</td>\n",
       "    </tr>\n",
       "    <tr>\n",
       "      <th>Kernal Initializer</th>\n",
       "      <td>glorot_uniform</td>\n",
       "      <td>0.8752</td>\n",
       "      <td>glorot_uniform</td>\n",
       "      <td>0.866233</td>\n",
       "      <td>glorot_uniform</td>\n",
       "      <td>0.8596</td>\n",
       "    </tr>\n",
       "  </tbody>\n",
       "</table>\n",
       "</div>"
      ],
      "text/plain": [
       "                             Setup1  Accuracy1          Setup2  Accuracy2  \\\n",
       "Optimizer                      adam     0.8752            adam   0.866233   \n",
       "Activation Function            relu     0.8752            relu   0.866233   \n",
       "Dropout Rate                   0.06     0.8752            0.24   0.866233   \n",
       "Kernal Initializer   glorot_uniform     0.8752  glorot_uniform   0.866233   \n",
       "\n",
       "                             Setup3  Accuracy3  \n",
       "Optimizer                      adam     0.8596  \n",
       "Activation Function            relu     0.8596  \n",
       "Dropout Rate                   0.36     0.8596  \n",
       "Kernal Initializer   glorot_uniform     0.8596  "
      ]
     },
     "execution_count": 141,
     "metadata": {},
     "output_type": "execute_result"
    }
   ],
   "source": [
    "index_labels = ['Optimizer','Activation Function','Dropout Rate','Kernal Initializer']\n",
    "\n",
    "dropout_history_1 = fit_cnn_model('adam','relu',0.06,'glorot_uniform')\n",
    "dropout_history_2 = fit_cnn_model('adam','relu',0.24,'glorot_uniform')\n",
    "dropout_history_3 = fit_cnn_model('adam','relu',0.36,'glorot_uniform')\n",
    "\n",
    "test_accuracy_1 = dropout_history_1.history['accuracy'][1]\n",
    "test_accuracy_2 = dropout_history_2.history['accuracy'][1]\n",
    "test_accuracy_3 = dropout_history_3.history['accuracy'][1]\n",
    "\n",
    "pd.DataFrame({'Setup1':['adam','relu','0.06','glorot_uniform'],\n",
    "             'Accuracy1':test_accuracy_1,\n",
    "             'Setup2':['adam','relu','0.24','glorot_uniform'],\n",
    "             'Accuracy2':test_accuracy_2,\n",
    "             'Setup3':['adam','relu','0.36','glorot_uniform'],\n",
    "             'Accuracy3':test_accuracy_3},\n",
    "             index=index_labels)"
   ]
  },
  {
   "cell_type": "code",
   "execution_count": 153,
   "id": "3af195d7",
   "metadata": {},
   "outputs": [
    {
     "data": {
      "image/png": "[encoded data removed]",
      "text/plain": [
       "<Figure size 432x288 with 3 Axes>"
      ]
     },
     "metadata": {
      "needs_background": "light"
     },
     "output_type": "display_data"
    }
   ],
   "source": [
    "fig,(ax1,ax2,ax3) = plt.subplots(1,3)\n",
    "plt.suptitle('Train Accuracy and Test Accuracy')\n",
    "\n",
    "ax1.plot(dropout_history_1.history['accuracy'])\n",
    "ax1.plot(dropout_history_1.history['val_accuracy'])\n",
    "ax1.set_title('Dropout - 0.06')\n",
    "ax1.set_xlabel('Epoch')\n",
    "ax1.set_ylabel('Accuracy')\n",
    "ax1.legend(['Train Accuracy','Test Accuracy'],loc='lower center')\n",
    "\n",
    "ax2.plot(dropout_history_2.history['accuracy'])\n",
    "ax2.plot(dropout_history_2.history['val_accuracy'])\n",
    "ax2.set_title('Dropout - 0.24')\n",
    "ax2.set_xlabel('Epoch')\n",
    "ax2.set_ylabel('Accuracy')\n",
    "ax2.legend(['Train Accuracy','Test Accuracy'],loc='lower center')\n",
    "\n",
    "ax3.plot(dropout_history_3.history['accuracy'])\n",
    "ax3.plot(dropout_history_3.history['val_accuracy'])\n",
    "ax3.set_title('Dropout - 0.36')\n",
    "ax3.set_xlabel('Epoch')\n",
    "ax3.set_ylabel('Accuracy')\n",
    "ax3.legend(['Train Accuracy','Test Accuracy'],loc='lower center')\n",
    "\n",
    "plt.show()"
   ]
  },
  {
   "cell_type": "code",
   "execution_count": 142,
   "id": "95789d6b",
   "metadata": {},
   "outputs": [
    {
     "data": {
      "text/html": [
       "<div>\n",
       "<style scoped>\n",
       "    .dataframe tbody tr th:only-of-type {\n",
       "        vertical-align: middle;\n",
       "    }\n",
       "\n",
       "    .dataframe tbody tr th {\n",
       "        vertical-align: top;\n",
       "    }\n",
       "\n",
       "    .dataframe thead th {\n",
       "        text-align: right;\n",
       "    }\n",
       "</style>\n",
       "<table border=\"1\" class=\"dataframe\">\n",
       "  <thead>\n",
       "    <tr style=\"text-align: right;\">\n",
       "      <th></th>\n",
       "      <th>Setup1</th>\n",
       "      <th>Accuracy1</th>\n",
       "      <th>Setup2</th>\n",
       "      <th>Accuracy2</th>\n",
       "      <th>Setup3</th>\n",
       "      <th>Accuracy3</th>\n",
       "    </tr>\n",
       "  </thead>\n",
       "  <tbody>\n",
       "    <tr>\n",
       "      <th>Optimizer</th>\n",
       "      <td>adam</td>\n",
       "      <td>0.868467</td>\n",
       "      <td>adam</td>\n",
       "      <td>0.098217</td>\n",
       "      <td>adam</td>\n",
       "      <td>0.0987</td>\n",
       "    </tr>\n",
       "    <tr>\n",
       "      <th>Activation Function</th>\n",
       "      <td>relu</td>\n",
       "      <td>0.868467</td>\n",
       "      <td>relu</td>\n",
       "      <td>0.098217</td>\n",
       "      <td>relu</td>\n",
       "      <td>0.0987</td>\n",
       "    </tr>\n",
       "    <tr>\n",
       "      <th>Dropout Rate</th>\n",
       "      <td>0.12</td>\n",
       "      <td>0.868467</td>\n",
       "      <td>0.12</td>\n",
       "      <td>0.098217</td>\n",
       "      <td>0.12</td>\n",
       "      <td>0.0987</td>\n",
       "    </tr>\n",
       "    <tr>\n",
       "      <th>Kernal Initializer</th>\n",
       "      <td>random_uniform</td>\n",
       "      <td>0.868467</td>\n",
       "      <td>ones</td>\n",
       "      <td>0.098217</td>\n",
       "      <td>zeros</td>\n",
       "      <td>0.0987</td>\n",
       "    </tr>\n",
       "  </tbody>\n",
       "</table>\n",
       "</div>"
      ],
      "text/plain": [
       "                             Setup1  Accuracy1 Setup2  Accuracy2 Setup3  \\\n",
       "Optimizer                      adam   0.868467   adam   0.098217   adam   \n",
       "Activation Function            relu   0.868467   relu   0.098217   relu   \n",
       "Dropout Rate                   0.12   0.868467   0.12   0.098217   0.12   \n",
       "Kernal Initializer   random_uniform   0.868467   ones   0.098217  zeros   \n",
       "\n",
       "                     Accuracy3  \n",
       "Optimizer               0.0987  \n",
       "Activation Function     0.0987  \n",
       "Dropout Rate            0.0987  \n",
       "Kernal Initializer      0.0987  "
      ]
     },
     "execution_count": 142,
     "metadata": {},
     "output_type": "execute_result"
    }
   ],
   "source": [
    "index_labels = ['Optimizer','Activation Function','Dropout Rate','Kernal Initializer']\n",
    "\n",
    "kernel_history_1 = fit_cnn_model('adam','relu',0.12,'random_uniform')\n",
    "kernel_history_2 = fit_cnn_model('adam','relu',0.12,'ones')\n",
    "kernel_history_3 = fit_cnn_model('adam','relu',0.12,'zeros')\n",
    "\n",
    "test_accuracy_1 = kernel_history_1.history['accuracy'][1]\n",
    "test_accuracy_2 = kernel_history_2.history['accuracy'][1]\n",
    "test_accuracy_3 = kernel_history_3.history['accuracy'][1]\n",
    "\n",
    "pd.DataFrame({'Setup1':['adam','relu','0.12','random_uniform'],\n",
    "             'Accuracy1':test_accuracy_1,\n",
    "             'Setup2':['adam','relu','0.12','ones'],\n",
    "             'Accuracy2':test_accuracy_2,\n",
    "             'Setup3':['adam','relu','0.12','zeros'],\n",
    "             'Accuracy3':test_accuracy_3},\n",
    "             index=index_labels)"
   ]
  },
  {
   "cell_type": "code",
   "execution_count": 154,
   "id": "f5f10d3c",
   "metadata": {},
   "outputs": [
    {
     "data": {
      "image/png": "[encoded data removed]",
      "text/plain": [
       "<Figure size 432x288 with 3 Axes>"
      ]
     },
     "metadata": {
      "needs_background": "light"
     },
     "output_type": "display_data"
    }
   ],
   "source": [
    "fig,(ax1,ax2,ax3) = plt.subplots(1,3)\n",
    "plt.suptitle('Train Accuracy and Test Accuracy')\n",
    "\n",
    "ax1.plot(kernel_history_1.history['accuracy'])\n",
    "ax1.plot(kernel_history_1.history['val_accuracy'])\n",
    "ax1.set_title('Kernel - Random Uniform')\n",
    "ax1.set_xlabel('Epoch')\n",
    "ax1.set_ylabel('Accuracy')\n",
    "ax1.legend(['Train Accuracy','Test Accuracy'],loc='lower center')\n",
    "\n",
    "ax2.plot(kernel_history_2.history['accuracy'])\n",
    "ax2.plot(kernel_history_2.history['val_accuracy'])\n",
    "ax2.set_title('Kernel - Ones')\n",
    "ax2.set_xlabel('Epoch')\n",
    "ax2.set_ylabel('Accuracy')\n",
    "ax2.legend(['Train Accuracy','Test Accuracy'],loc='lower center')\n",
    "\n",
    "ax3.plot(kernel_history_3.history['accuracy'])\n",
    "ax3.plot(kernel_history_3.history['val_accuracy'])\n",
    "ax3.set_title('Kernel - Zeros')\n",
    "ax3.set_xlabel('Epoch')\n",
    "ax3.set_ylabel('Accuracy')\n",
    "ax3.legend(['Train Accuracy','Test Accuracy'],loc='lower center')\n",
    "\n",
    "plt.show()"
   ]
  },
  {
   "cell_type": "markdown",
   "id": "6c5a1d3e",
   "metadata": {},
   "source": [
    "The motivation for each of these changes was largely by trial and error. For optimizers, I had tried quite a few when developing the inital model and found adam to be the best so I'm not very surprised when it came out on top.\n",
    "\n",
    "With activation functions, I didn't expect softplus to outperform relu due to its prevelance in award winning CNN architectures such as AlexNet. But alas, softplus is the winner, albeit with fairly narrow margins.\n",
    "\n",
    "A dropout of 0.12 didn't seem to change a ton in my experimentations that won't be covered in this report, but the table suggests that a smaller dropout rate may yield a little bit better results.\n",
    "\n",
    "Finally, we arrive to the one which has the largest disparity. The kernel initializers of zeros and ones were absolutely abyssmal. If given more time to run through more epochs, they may perform better, but even at this point they should be disqualified when compared to glorot_uniform and random_uniform given their supremely improved performance off the bat."
   ]
  },
  {
   "cell_type": "markdown",
   "id": "fc6899cf",
   "metadata": {},
   "source": [
    "The result of this block of code here is the rotation of all of the images in the dataset. The called for quadrupling of the dataset (going from 60k samples to 240k samples) is achieved simply by rotating all entries in the dataset by 90 degrees, then again 180 degrees, and yet again by 270 degrees. The expanded y_train array is done simply by repeating the original y_train 4 times."
   ]
  },
  {
   "cell_type": "code",
   "execution_count": 279,
   "id": "e3d53f33",
   "metadata": {
    "scrolled": true
   },
   "outputs": [
    {
     "name": "stdout",
     "output_type": "stream",
     "text": [
      "(240000, 28, 28)\n",
      "(240000,)\n"
     ]
    },
    {
     "data": {
      "image/png": "[encoded data removed]",
      "text/plain": [
       "<Figure size 432x288 with 4 Axes>"
      ]
     },
     "metadata": {
      "needs_background": "light"
     },
     "output_type": "display_data"
    }
   ],
   "source": [
    "X_train_90 = np.rot90(X_train,axes=(1,2))\n",
    "X_train_180 = np.rot90(X_train,axes=(1,2),k=2)\n",
    "X_train_270 = np.rot90(X_train,axes=(1,2),k=3)\n",
    "\n",
    "train_arrays = (X_train,X_train_90,X_train_180,X_train_270)\n",
    "X_train_big = np.concatenate(train_arrays)\n",
    "\n",
    "y_train_big = np.repeat(y_train,repeats=4)\n",
    "\n",
    "print(X_train_big.shape)\n",
    "print(y_train_big.shape)\n",
    "\n",
    "fig,axs = plt.subplots(2,2)\n",
    "\n",
    "axs[0,0].imshow(X_train[0])\n",
    "axs[0,0].set_title('Original')\n",
    "\n",
    "axs[0,1].imshow(X_train_90[0])\n",
    "axs[0,1].set_title('Rotated 90')\n",
    "\n",
    "axs[1,0].imshow(X_train_180[0])\n",
    "axs[1,0].set_xlabel('Rotated 180')\n",
    "\n",
    "axs[1,1].imshow(X_train_270[0])\n",
    "axs[1,1].set_xlabel('Rotated 270')\n",
    "plt.show()"
   ]
  },
  {
   "cell_type": "markdown",
   "id": "8579450a",
   "metadata": {},
   "source": [
    "The expanded dataset tanked the accuracy of the model. I can assure you that nothing within the model changed in the slightest: I literally copied and pasted the code from the original model from Part III. The only details changed were the training data and their associated labels.\n",
    "\n",
    "However, it does stand to reason that augmenting the data in this way makes for a far more generalizable model, where the model picks up on details that humans are more capable of observing, such as realizing that symmetrical images of the same object are very obviously still the same object."
   ]
  },
  {
   "cell_type": "code",
   "execution_count": 269,
   "id": "1a2bdf65",
   "metadata": {},
   "outputs": [
    {
     "name": "stdout",
     "output_type": "stream",
     "text": [
      "Epoch 1/7\n",
      "7500/7500 [==============================] - 150s 20ms/step - loss: 2.3068 - accuracy: 0.1004 - val_loss: 2.3027 - val_accuracy: 0.1000\n",
      "Epoch 2/7\n",
      "7500/7500 [==============================] - 146s 19ms/step - loss: 2.3028 - accuracy: 0.1009 - val_loss: 2.3027 - val_accuracy: 0.1000\n",
      "Epoch 3/7\n",
      "7500/7500 [==============================] - 146s 19ms/step - loss: 2.3027 - accuracy: 0.1002 - val_loss: 2.3028 - val_accuracy: 0.1000\n",
      "Epoch 4/7\n",
      "7500/7500 [==============================] - 145s 19ms/step - loss: 2.3027 - accuracy: 0.0994 - val_loss: 2.3028 - val_accuracy: 0.1000\n",
      "Epoch 5/7\n",
      "7500/7500 [==============================] - 145s 19ms/step - loss: 2.3027 - accuracy: 0.1004 - val_loss: 2.3027 - val_accuracy: 0.1000\n",
      "Epoch 6/7\n",
      "7500/7500 [==============================] - 142s 19ms/step - loss: 2.3027 - accuracy: 0.0997 - val_loss: 2.3027 - val_accuracy: 0.1000\n",
      "Epoch 7/7\n",
      "7500/7500 [==============================] - 142s 19ms/step - loss: 2.3028 - accuracy: 0.0992 - val_loss: 2.3027 - val_accuracy: 0.1000\n"
     ]
    }
   ],
   "source": [
    "tf.random.set_seed(12)\n",
    "\n",
    "act_func = 'relu'\n",
    "kernel_initializer = 'glorot_uniform'\n",
    "dropout_rate = 0.12\n",
    "optimizer = 'adam'\n",
    "\n",
    "model = keras.models.Sequential()\n",
    "model.add(keras.layers.Conv2D(32,(4,4),padding='same',activation=act_func,\n",
    "                              kernel_initializer=kernel_initializer,input_shape=(28,28,1)))\n",
    "model.add(keras.layers.MaxPooling2D(3,3))\n",
    "model.add(keras.layers.Conv2D(64,(3,3),padding='same',activation=act_func,\n",
    "                              kernel_initializer=kernel_initializer))\n",
    "model.add(keras.layers.AveragePooling2D(3,3))\n",
    "model.add(keras.layers.Conv2D(32,(3,3),padding='same',activation=act_func,\n",
    "                              kernel_initializer=kernel_initializer))\n",
    "model.add(keras.layers.Conv2D(32,(3,3),padding='same',activation=act_func,\n",
    "                              kernel_initializer=kernel_initializer))\n",
    "model.add(keras.layers.MaxPooling2D(3,3))\n",
    "model.add(keras.layers.Flatten())\n",
    "model.add(keras.layers.Dense(128,activation=act_func))\n",
    "model.add(keras.layers.Dropout(dropout_rate))\n",
    "model.add(keras.layers.Dense(10,activation='softmax'))\n",
    "\n",
    "model.compile(optimizer=optimizer,loss='sparse_categorical_crossentropy',metrics=['accuracy'])\n",
    "history_aug = model.fit(X_train_big,y_train_big,epochs=7,validation_data=(X_test,y_test),verbose=1)"
   ]
  },
  {
   "cell_type": "code",
   "execution_count": null,
   "id": "7bf13f64",
   "metadata": {},
   "outputs": [],
   "source": []
  }
 ],
 "metadata": {
  "kernelspec": {
   "display_name": "Python 3",
   "language": "python",
   "name": "python3"
  },
  "language_info": {
   "codemirror_mode": {
    "name": "ipython",
    "version": 3
   },
   "file_extension": ".py",
   "mimetype": "text/x-python",
   "name": "python",
   "nbconvert_exporter": "python",
   "pygments_lexer": "ipython3",
   "version": "3.8.8"
  }
 },
 "nbformat": 4,
 "nbformat_minor": 5
}

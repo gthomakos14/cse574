{
 "cells": [
  {
   "cell_type": "markdown",
   "id": "43d8026f",
   "metadata": {},
   "source": [
    "# CSE 574 - Assignment 2\n",
    "\n",
    "#### Glenn Thomakos"
   ]
  },
  {
   "cell_type": "markdown",
   "id": "d764cdd8",
   "metadata": {},
   "source": [
    "I certify that the code and data in this assignment were generated independently,\n",
    "using only the tools and resources defined in the course and that I did not receive\n",
    "any external help, coaching or contributions during the production of this work."
   ]
  },
  {
   "cell_type": "code",
   "execution_count": 1,
   "id": "7242e18e",
   "metadata": {},
   "outputs": [],
   "source": [
    "import pandas as pd\n",
    "import numpy as np\n",
    "import matplotlib.pyplot as plt\n",
    "import seaborn as sns"
   ]
  },
  {
   "cell_type": "markdown",
   "id": "7450beb4",
   "metadata": {},
   "source": [
    "## Part 1: Data Analysis - Penguin dataset"
   ]
  },
  {
   "cell_type": "code",
   "execution_count": 2,
   "id": "10181e66",
   "metadata": {},
   "outputs": [],
   "source": [
    "df_penguins = pd.read_csv('datasets/penguins.csv')"
   ]
  },
  {
   "cell_type": "markdown",
   "id": "f4e2dd10",
   "metadata": {},
   "source": [
    "When I get a dataset I haven't seen before there's some fundamental questions that need to be answered. Namely, \"how big is it?\" and \"what does it contain?\" These two calls to shape and columns represent the answers to these questions. \n",
    "\n",
    "We can see from the shape call that there are 344 entries along with 8 features. So a fairly small database. But what exactly are these 8 columns?\n",
    "\n",
    "The call to columns yields results that are easily interpretable using common knowledge about penguins. From here we begin to understand what exactly is in the dataset, even though we don't yet know what to expect numerically or categorically from each feature."
   ]
  },
  {
   "cell_type": "code",
   "execution_count": 3,
   "id": "83a7a337",
   "metadata": {},
   "outputs": [
    {
     "name": "stdout",
     "output_type": "stream",
     "text": [
      "(344, 8)\n",
      "Index(['species', 'island', 'bill_length_mm', 'bill_depth_mm',\n",
      "       'flipper_length_mm', 'body_mass_g', 'sex', 'year'],\n",
      "      dtype='object')\n"
     ]
    }
   ],
   "source": [
    "print(df_penguins.shape)\n",
    "print(df_penguins.columns)"
   ]
  },
  {
   "cell_type": "markdown",
   "id": "bfea11b1",
   "metadata": {},
   "source": [
    "Here we have the dtypes call which tells us what sort of information to expect. We know that species, island, and sex are categorical while the others are numerical. Intuitively this is something we'd expect, but it's not always the case. For instance, it wouldn't be outside the realm of possibilities to have a number designating what species a penguin is. That would make it an int64 attribute like year instead of an object attribute."
   ]
  },
  {
   "cell_type": "code",
   "execution_count": 4,
   "id": "bc0d9a94",
   "metadata": {},
   "outputs": [
    {
     "data": {
      "text/plain": [
       "species               object\n",
       "island                object\n",
       "bill_length_mm       float64\n",
       "bill_depth_mm        float64\n",
       "flipper_length_mm    float64\n",
       "body_mass_g          float64\n",
       "sex                   object\n",
       "year                   int64\n",
       "dtype: object"
      ]
     },
     "execution_count": 4,
     "metadata": {},
     "output_type": "execute_result"
    }
   ],
   "source": [
    "df_penguins.dtypes"
   ]
  },
  {
   "cell_type": "markdown",
   "id": "4f94ebbd",
   "metadata": {},
   "source": [
    "With describe() we get a better sense as to what the numerical attributes look like. My knowledge of penguins only extends to the fact that they have bills and flippers, it doesn't extend to how long or how deep they are. So this sort of thing is always helpful. It can also be nice to find outliers in the min and max rows."
   ]
  },
  {
   "cell_type": "code",
   "execution_count": 5,
   "id": "6e8beabc",
   "metadata": {},
   "outputs": [
    {
     "data": {
      "text/html": [
       "<div>\n",
       "<style scoped>\n",
       "    .dataframe tbody tr th:only-of-type {\n",
       "        vertical-align: middle;\n",
       "    }\n",
       "\n",
       "    .dataframe tbody tr th {\n",
       "        vertical-align: top;\n",
       "    }\n",
       "\n",
       "    .dataframe thead th {\n",
       "        text-align: right;\n",
       "    }\n",
       "</style>\n",
       "<table border=\"1\" class=\"dataframe\">\n",
       "  <thead>\n",
       "    <tr style=\"text-align: right;\">\n",
       "      <th></th>\n",
       "      <th>bill_length_mm</th>\n",
       "      <th>bill_depth_mm</th>\n",
       "      <th>flipper_length_mm</th>\n",
       "      <th>body_mass_g</th>\n",
       "      <th>year</th>\n",
       "    </tr>\n",
       "  </thead>\n",
       "  <tbody>\n",
       "    <tr>\n",
       "      <th>count</th>\n",
       "      <td>342.000000</td>\n",
       "      <td>342.000000</td>\n",
       "      <td>342.000000</td>\n",
       "      <td>342.000000</td>\n",
       "      <td>344.000000</td>\n",
       "    </tr>\n",
       "    <tr>\n",
       "      <th>mean</th>\n",
       "      <td>43.921930</td>\n",
       "      <td>17.151170</td>\n",
       "      <td>200.915205</td>\n",
       "      <td>4201.754386</td>\n",
       "      <td>2008.029070</td>\n",
       "    </tr>\n",
       "    <tr>\n",
       "      <th>std</th>\n",
       "      <td>5.459584</td>\n",
       "      <td>1.974793</td>\n",
       "      <td>14.061714</td>\n",
       "      <td>801.954536</td>\n",
       "      <td>0.818356</td>\n",
       "    </tr>\n",
       "    <tr>\n",
       "      <th>min</th>\n",
       "      <td>32.100000</td>\n",
       "      <td>13.100000</td>\n",
       "      <td>172.000000</td>\n",
       "      <td>2700.000000</td>\n",
       "      <td>2007.000000</td>\n",
       "    </tr>\n",
       "    <tr>\n",
       "      <th>25%</th>\n",
       "      <td>39.225000</td>\n",
       "      <td>15.600000</td>\n",
       "      <td>190.000000</td>\n",
       "      <td>3550.000000</td>\n",
       "      <td>2007.000000</td>\n",
       "    </tr>\n",
       "    <tr>\n",
       "      <th>50%</th>\n",
       "      <td>44.450000</td>\n",
       "      <td>17.300000</td>\n",
       "      <td>197.000000</td>\n",
       "      <td>4050.000000</td>\n",
       "      <td>2008.000000</td>\n",
       "    </tr>\n",
       "    <tr>\n",
       "      <th>75%</th>\n",
       "      <td>48.500000</td>\n",
       "      <td>18.700000</td>\n",
       "      <td>213.000000</td>\n",
       "      <td>4750.000000</td>\n",
       "      <td>2009.000000</td>\n",
       "    </tr>\n",
       "    <tr>\n",
       "      <th>max</th>\n",
       "      <td>59.600000</td>\n",
       "      <td>21.500000</td>\n",
       "      <td>231.000000</td>\n",
       "      <td>6300.000000</td>\n",
       "      <td>2009.000000</td>\n",
       "    </tr>\n",
       "  </tbody>\n",
       "</table>\n",
       "</div>"
      ],
      "text/plain": [
       "       bill_length_mm  bill_depth_mm  flipper_length_mm  body_mass_g  \\\n",
       "count      342.000000     342.000000         342.000000   342.000000   \n",
       "mean        43.921930      17.151170         200.915205  4201.754386   \n",
       "std          5.459584       1.974793          14.061714   801.954536   \n",
       "min         32.100000      13.100000         172.000000  2700.000000   \n",
       "25%         39.225000      15.600000         190.000000  3550.000000   \n",
       "50%         44.450000      17.300000         197.000000  4050.000000   \n",
       "75%         48.500000      18.700000         213.000000  4750.000000   \n",
       "max         59.600000      21.500000         231.000000  6300.000000   \n",
       "\n",
       "              year  \n",
       "count   344.000000  \n",
       "mean   2008.029070  \n",
       "std       0.818356  \n",
       "min    2007.000000  \n",
       "25%    2007.000000  \n",
       "50%    2008.000000  \n",
       "75%    2009.000000  \n",
       "max    2009.000000  "
      ]
     },
     "execution_count": 5,
     "metadata": {},
     "output_type": "execute_result"
    }
   ],
   "source": [
    "df_penguins.describe()"
   ]
  },
  {
   "cell_type": "markdown",
   "id": "9073a6a8",
   "metadata": {},
   "source": [
    "Finally we arrive at a quick glimpse of what a few entries in the dataset look like. This particular call to head also tells us that there are null values in the dataset that will eventually need to be handled."
   ]
  },
  {
   "cell_type": "code",
   "execution_count": 6,
   "id": "4ffa28c4",
   "metadata": {},
   "outputs": [
    {
     "data": {
      "text/html": [
       "<div>\n",
       "<style scoped>\n",
       "    .dataframe tbody tr th:only-of-type {\n",
       "        vertical-align: middle;\n",
       "    }\n",
       "\n",
       "    .dataframe tbody tr th {\n",
       "        vertical-align: top;\n",
       "    }\n",
       "\n",
       "    .dataframe thead th {\n",
       "        text-align: right;\n",
       "    }\n",
       "</style>\n",
       "<table border=\"1\" class=\"dataframe\">\n",
       "  <thead>\n",
       "    <tr style=\"text-align: right;\">\n",
       "      <th></th>\n",
       "      <th>species</th>\n",
       "      <th>island</th>\n",
       "      <th>bill_length_mm</th>\n",
       "      <th>bill_depth_mm</th>\n",
       "      <th>flipper_length_mm</th>\n",
       "      <th>body_mass_g</th>\n",
       "      <th>sex</th>\n",
       "      <th>year</th>\n",
       "    </tr>\n",
       "  </thead>\n",
       "  <tbody>\n",
       "    <tr>\n",
       "      <th>0</th>\n",
       "      <td>Adelie</td>\n",
       "      <td>Torgersen</td>\n",
       "      <td>39.1</td>\n",
       "      <td>18.7</td>\n",
       "      <td>181.0</td>\n",
       "      <td>3750.0</td>\n",
       "      <td>male</td>\n",
       "      <td>2007</td>\n",
       "    </tr>\n",
       "    <tr>\n",
       "      <th>1</th>\n",
       "      <td>Adelie</td>\n",
       "      <td>Torgersen</td>\n",
       "      <td>39.5</td>\n",
       "      <td>17.4</td>\n",
       "      <td>186.0</td>\n",
       "      <td>3800.0</td>\n",
       "      <td>female</td>\n",
       "      <td>2007</td>\n",
       "    </tr>\n",
       "    <tr>\n",
       "      <th>2</th>\n",
       "      <td>Adelie</td>\n",
       "      <td>Torgersen</td>\n",
       "      <td>40.3</td>\n",
       "      <td>18.0</td>\n",
       "      <td>195.0</td>\n",
       "      <td>3250.0</td>\n",
       "      <td>female</td>\n",
       "      <td>2007</td>\n",
       "    </tr>\n",
       "    <tr>\n",
       "      <th>3</th>\n",
       "      <td>Adelie</td>\n",
       "      <td>Torgersen</td>\n",
       "      <td>NaN</td>\n",
       "      <td>NaN</td>\n",
       "      <td>NaN</td>\n",
       "      <td>NaN</td>\n",
       "      <td>NaN</td>\n",
       "      <td>2007</td>\n",
       "    </tr>\n",
       "    <tr>\n",
       "      <th>4</th>\n",
       "      <td>Adelie</td>\n",
       "      <td>Torgersen</td>\n",
       "      <td>36.7</td>\n",
       "      <td>19.3</td>\n",
       "      <td>193.0</td>\n",
       "      <td>3450.0</td>\n",
       "      <td>female</td>\n",
       "      <td>2007</td>\n",
       "    </tr>\n",
       "  </tbody>\n",
       "</table>\n",
       "</div>"
      ],
      "text/plain": [
       "  species     island  bill_length_mm  bill_depth_mm  flipper_length_mm  \\\n",
       "0  Adelie  Torgersen            39.1           18.7              181.0   \n",
       "1  Adelie  Torgersen            39.5           17.4              186.0   \n",
       "2  Adelie  Torgersen            40.3           18.0              195.0   \n",
       "3  Adelie  Torgersen             NaN            NaN                NaN   \n",
       "4  Adelie  Torgersen            36.7           19.3              193.0   \n",
       "\n",
       "   body_mass_g     sex  year  \n",
       "0       3750.0    male  2007  \n",
       "1       3800.0  female  2007  \n",
       "2       3250.0  female  2007  \n",
       "3          NaN     NaN  2007  \n",
       "4       3450.0  female  2007  "
      ]
     },
     "execution_count": 6,
     "metadata": {},
     "output_type": "execute_result"
    }
   ],
   "source": [
    "df_penguins.head()"
   ]
  },
  {
   "cell_type": "markdown",
   "id": "e32cef77",
   "metadata": {},
   "source": [
    "Now we see where the null values are coming from. Thankfully they're a fairly small amount with 11 being the largest amount in a column. I feel very comfortable simply dropping these values off given the small effect it's likely to have on the overall database. The upper bound of entries with a null feature is 19, and we know already that isn't even reached from the head() call one cell above. That means less than 6% of the data has a missing entry."
   ]
  },
  {
   "cell_type": "code",
   "execution_count": 7,
   "id": "871d138b",
   "metadata": {},
   "outputs": [
    {
     "data": {
      "text/plain": [
       "species               0\n",
       "island                0\n",
       "bill_length_mm        2\n",
       "bill_depth_mm         2\n",
       "flipper_length_mm     2\n",
       "body_mass_g           2\n",
       "sex                  11\n",
       "year                  0\n",
       "dtype: int64"
      ]
     },
     "execution_count": 7,
     "metadata": {},
     "output_type": "execute_result"
    }
   ],
   "source": [
    "df_penguins.isnull().sum(axis=0)"
   ]
  },
  {
   "cell_type": "code",
   "execution_count": 8,
   "id": "70c879d6",
   "metadata": {},
   "outputs": [],
   "source": [
    "df_penguins = df_penguins.dropna()"
   ]
  },
  {
   "cell_type": "code",
   "execution_count": 9,
   "id": "45b4d1cd",
   "metadata": {},
   "outputs": [],
   "source": [
    "df_penguins['species'] = df_penguins['species'].astype('category')\n",
    "df_penguins['island'] = df_penguins['island'].astype('category')\n",
    "df_penguins['sex'] = df_penguins['sex'].astype('category')"
   ]
  },
  {
   "cell_type": "markdown",
   "id": "6a1b9dc0",
   "metadata": {},
   "source": [
    "Plotting visualizations can give you a better look at how data aggregates as well. For instance, this 'Mass vs Flipper Length' plot clearly indicates a linear correlation between mass and flipper length."
   ]
  },
  {
   "cell_type": "code",
   "execution_count": 10,
   "id": "cdcf1166",
   "metadata": {},
   "outputs": [
    {
     "data": {
      "image/png": "[encoded data removed]",
      "text/plain": [
       "<Figure size 432x288 with 1 Axes>"
      ]
     },
     "metadata": {
      "needs_background": "light"
     },
     "output_type": "display_data"
    }
   ],
   "source": [
    "plt.plot(df_penguins['body_mass_g'],df_penguins['flipper_length_mm'],'b.')\n",
    "plt.title('Mass vs Flipper Length')\n",
    "plt.xlabel('Mass')\n",
    "plt.ylabel('Flipper Length')\n",
    "plt.show()"
   ]
  },
  {
   "cell_type": "markdown",
   "id": "624052e1",
   "metadata": {},
   "source": [
    "These overlayed density plots indicate separation between the three species in terms of flipper length. More specifically, Gentoo penguins can be easily distinguished from the other two species solely based off of flipper length."
   ]
  },
  {
   "cell_type": "code",
   "execution_count": 11,
   "id": "24b26651",
   "metadata": {},
   "outputs": [
    {
     "data": {
      "image/png": "[encoded data removed]",
      "text/plain": [
       "<Figure size 432x288 with 1 Axes>"
      ]
     },
     "metadata": {
      "needs_background": "light"
     },
     "output_type": "display_data"
    }
   ],
   "source": [
    "sns.kdeplot(df_penguins[df_penguins['species']=='Adelie']['flipper_length_mm'])\n",
    "sns.kdeplot(df_penguins[df_penguins['species']=='Chinstrap']['flipper_length_mm'])\n",
    "sns.kdeplot(df_penguins[df_penguins['species']=='Gentoo']['flipper_length_mm'])\n",
    "plt.legend(labels=['Adelie','Chinstrap','Gentoo'])\n",
    "plt.title('Flipper Length Density Plots')\n",
    "plt.xlabel('Flipper Length')\n",
    "plt.show()"
   ]
  },
  {
   "cell_type": "markdown",
   "id": "b741d6de",
   "metadata": {},
   "source": [
    "A different way of seeing the same splits as above is to use a bar chart. From here, we can see that the Adelie penguins have significantly smaller bills than the other two species. However, the above plot is preferred given that it shows the distribution of the data. Especially if the following goal is classification, it's nice to know how separated they are."
   ]
  },
  {
   "cell_type": "code",
   "execution_count": 12,
   "id": "a22bf267",
   "metadata": {},
   "outputs": [
    {
     "data": {
      "image/png": "[encoded data removed]",
      "text/plain": [
       "<Figure size 432x288 with 1 Axes>"
      ]
     },
     "metadata": {
      "needs_background": "light"
     },
     "output_type": "display_data"
    }
   ],
   "source": [
    "sns.barplot(x=df_penguins['species'],y=df_penguins['bill_length_mm'])\n",
    "plt.title('Bill Length Separated by Species')\n",
    "plt.ylabel('Bill Length')\n",
    "plt.show()"
   ]
  },
  {
   "cell_type": "markdown",
   "id": "ce59158f",
   "metadata": {},
   "source": [
    "Every once in a while, something you think might be true turns out not to be supported by the actual data. For instance, I thought it was pretty reasonable to think that longer bill means deeper bill because longer bill must mean overall larger bill right? Well, it turns out that there's very minimal correlation in these penguin species between bill length and bill depth."
   ]
  },
  {
   "cell_type": "code",
   "execution_count": 13,
   "id": "d5f40c36",
   "metadata": {},
   "outputs": [
    {
     "data": {
      "image/png": "[encoded data removed]",
      "text/plain": [
       "<Figure size 432x288 with 1 Axes>"
      ]
     },
     "metadata": {
      "needs_background": "light"
     },
     "output_type": "display_data"
    }
   ],
   "source": [
    "plt.plot(df_penguins['bill_length_mm'],df_penguins['bill_depth_mm'],'b.')\n",
    "plt.title('Bill Length vs Bill Depth')\n",
    "plt.xlabel('Bill Length')\n",
    "plt.ylabel('Bill Depth')\n",
    "plt.show()"
   ]
  },
  {
   "cell_type": "markdown",
   "id": "f7a123de",
   "metadata": {},
   "source": [
    "This final graph is the same one as above, but with different colors for each species of penguin. I saw a little bit of separation in the plot above and wondered if it was due to the different species and, sure enough, it was. There's some clear delineation between the species based on their bill size. This also suggests that a new feature of \"bill size\" may be helpful if classifying the different species."
   ]
  },
  {
   "cell_type": "code",
   "execution_count": 14,
   "id": "9a464fc4",
   "metadata": {},
   "outputs": [
    {
     "data": {
      "image/png": "[encoded data removed]",
      "text/plain": [
       "<Figure size 432x288 with 1 Axes>"
      ]
     },
     "metadata": {
      "needs_background": "light"
     },
     "output_type": "display_data"
    }
   ],
   "source": [
    "df_adelie = df_penguins[df_penguins['species']=='Adelie']\n",
    "df_gentoo = df_penguins[df_penguins['species']=='Gentoo']\n",
    "df_chinstrap = df_penguins[df_penguins['species']=='Chinstrap']\n",
    "\n",
    "plt.plot(df_adelie['bill_length_mm'],df_adelie['bill_depth_mm'],'b.')\n",
    "plt.plot(df_gentoo['bill_length_mm'],df_gentoo['bill_depth_mm'],'r.')\n",
    "plt.plot(df_chinstrap['bill_length_mm'],df_chinstrap['bill_depth_mm'],'y.')\n",
    "\n",
    "plt.title('Bill Length vs Bill Depth, Separated by Species')\n",
    "plt.xlabel('Bill Length')\n",
    "plt.ylabel('Bill Depth')\n",
    "plt.legend(labels=['Adelie','Gentoo','Chinstrap'])\n",
    "plt.show()"
   ]
  },
  {
   "cell_type": "markdown",
   "id": "8aad72da",
   "metadata": {},
   "source": [
    "## Part 1: Data Analysis - Insurance dataset"
   ]
  },
  {
   "cell_type": "code",
   "execution_count": 15,
   "id": "c49a42c9",
   "metadata": {},
   "outputs": [],
   "source": [
    "df_insurance = pd.read_csv('datasets/insurance.csv')"
   ]
  },
  {
   "cell_type": "markdown",
   "id": "2a46ecd1",
   "metadata": {},
   "source": [
    "The insurance dataset is about 3 times larger than the penguins dataset, but with one less column. All of the columns except for 'charges' seem fairly intuitive to me."
   ]
  },
  {
   "cell_type": "code",
   "execution_count": 16,
   "id": "f4d541c3",
   "metadata": {},
   "outputs": [
    {
     "name": "stdout",
     "output_type": "stream",
     "text": [
      "(1338, 7)\n",
      "Index(['age', 'sex', 'bmi', 'children', 'smoker', 'region', 'charges'], dtype='object')\n"
     ]
    }
   ],
   "source": [
    "print(df_insurance.shape)\n",
    "print(df_insurance.columns)"
   ]
  },
  {
   "cell_type": "markdown",
   "id": "7c0d53ff",
   "metadata": {},
   "source": [
    "From standard domain knowledge, these data types are about what we'd expect when it comes to these variables. No surprises."
   ]
  },
  {
   "cell_type": "code",
   "execution_count": 17,
   "id": "5c7145ae",
   "metadata": {},
   "outputs": [
    {
     "data": {
      "text/plain": [
       "age           int64\n",
       "sex          object\n",
       "bmi         float64\n",
       "children      int64\n",
       "smoker       object\n",
       "region       object\n",
       "charges     float64\n",
       "dtype: object"
      ]
     },
     "execution_count": 17,
     "metadata": {},
     "output_type": "execute_result"
    }
   ],
   "source": [
    "df_insurance.dtypes"
   ]
  },
  {
   "cell_type": "markdown",
   "id": "d9e80e0d",
   "metadata": {},
   "source": [
    "I was really hoping to find some more information on charges but there's really nothing here. It is helpful to know what the ranges of the other columns are."
   ]
  },
  {
   "cell_type": "code",
   "execution_count": 18,
   "id": "f45e18dc",
   "metadata": {},
   "outputs": [
    {
     "data": {
      "text/html": [
       "<div>\n",
       "<style scoped>\n",
       "    .dataframe tbody tr th:only-of-type {\n",
       "        vertical-align: middle;\n",
       "    }\n",
       "\n",
       "    .dataframe tbody tr th {\n",
       "        vertical-align: top;\n",
       "    }\n",
       "\n",
       "    .dataframe thead th {\n",
       "        text-align: right;\n",
       "    }\n",
       "</style>\n",
       "<table border=\"1\" class=\"dataframe\">\n",
       "  <thead>\n",
       "    <tr style=\"text-align: right;\">\n",
       "      <th></th>\n",
       "      <th>age</th>\n",
       "      <th>bmi</th>\n",
       "      <th>children</th>\n",
       "      <th>charges</th>\n",
       "    </tr>\n",
       "  </thead>\n",
       "  <tbody>\n",
       "    <tr>\n",
       "      <th>count</th>\n",
       "      <td>1338.000000</td>\n",
       "      <td>1338.000000</td>\n",
       "      <td>1338.000000</td>\n",
       "      <td>1338.000000</td>\n",
       "    </tr>\n",
       "    <tr>\n",
       "      <th>mean</th>\n",
       "      <td>39.207025</td>\n",
       "      <td>30.663397</td>\n",
       "      <td>1.094918</td>\n",
       "      <td>13270.422265</td>\n",
       "    </tr>\n",
       "    <tr>\n",
       "      <th>std</th>\n",
       "      <td>14.049960</td>\n",
       "      <td>6.098187</td>\n",
       "      <td>1.205493</td>\n",
       "      <td>12110.011237</td>\n",
       "    </tr>\n",
       "    <tr>\n",
       "      <th>min</th>\n",
       "      <td>18.000000</td>\n",
       "      <td>15.960000</td>\n",
       "      <td>0.000000</td>\n",
       "      <td>1121.873900</td>\n",
       "    </tr>\n",
       "    <tr>\n",
       "      <th>25%</th>\n",
       "      <td>27.000000</td>\n",
       "      <td>26.296250</td>\n",
       "      <td>0.000000</td>\n",
       "      <td>4740.287150</td>\n",
       "    </tr>\n",
       "    <tr>\n",
       "      <th>50%</th>\n",
       "      <td>39.000000</td>\n",
       "      <td>30.400000</td>\n",
       "      <td>1.000000</td>\n",
       "      <td>9382.033000</td>\n",
       "    </tr>\n",
       "    <tr>\n",
       "      <th>75%</th>\n",
       "      <td>51.000000</td>\n",
       "      <td>34.693750</td>\n",
       "      <td>2.000000</td>\n",
       "      <td>16639.912515</td>\n",
       "    </tr>\n",
       "    <tr>\n",
       "      <th>max</th>\n",
       "      <td>64.000000</td>\n",
       "      <td>53.130000</td>\n",
       "      <td>5.000000</td>\n",
       "      <td>63770.428010</td>\n",
       "    </tr>\n",
       "  </tbody>\n",
       "</table>\n",
       "</div>"
      ],
      "text/plain": [
       "               age          bmi     children       charges\n",
       "count  1338.000000  1338.000000  1338.000000   1338.000000\n",
       "mean     39.207025    30.663397     1.094918  13270.422265\n",
       "std      14.049960     6.098187     1.205493  12110.011237\n",
       "min      18.000000    15.960000     0.000000   1121.873900\n",
       "25%      27.000000    26.296250     0.000000   4740.287150\n",
       "50%      39.000000    30.400000     1.000000   9382.033000\n",
       "75%      51.000000    34.693750     2.000000  16639.912515\n",
       "max      64.000000    53.130000     5.000000  63770.428010"
      ]
     },
     "execution_count": 18,
     "metadata": {},
     "output_type": "execute_result"
    }
   ],
   "source": [
    "df_insurance.describe()"
   ]
  },
  {
   "cell_type": "markdown",
   "id": "17052371",
   "metadata": {},
   "source": [
    "Now we see what the dataset looks like. No big surprises here to speak of."
   ]
  },
  {
   "cell_type": "code",
   "execution_count": 19,
   "id": "f4af7654",
   "metadata": {},
   "outputs": [
    {
     "data": {
      "text/html": [
       "<div>\n",
       "<style scoped>\n",
       "    .dataframe tbody tr th:only-of-type {\n",
       "        vertical-align: middle;\n",
       "    }\n",
       "\n",
       "    .dataframe tbody tr th {\n",
       "        vertical-align: top;\n",
       "    }\n",
       "\n",
       "    .dataframe thead th {\n",
       "        text-align: right;\n",
       "    }\n",
       "</style>\n",
       "<table border=\"1\" class=\"dataframe\">\n",
       "  <thead>\n",
       "    <tr style=\"text-align: right;\">\n",
       "      <th></th>\n",
       "      <th>age</th>\n",
       "      <th>sex</th>\n",
       "      <th>bmi</th>\n",
       "      <th>children</th>\n",
       "      <th>smoker</th>\n",
       "      <th>region</th>\n",
       "      <th>charges</th>\n",
       "    </tr>\n",
       "  </thead>\n",
       "  <tbody>\n",
       "    <tr>\n",
       "      <th>0</th>\n",
       "      <td>19</td>\n",
       "      <td>female</td>\n",
       "      <td>27.900</td>\n",
       "      <td>0</td>\n",
       "      <td>yes</td>\n",
       "      <td>southwest</td>\n",
       "      <td>16884.92400</td>\n",
       "    </tr>\n",
       "    <tr>\n",
       "      <th>1</th>\n",
       "      <td>18</td>\n",
       "      <td>male</td>\n",
       "      <td>33.770</td>\n",
       "      <td>1</td>\n",
       "      <td>no</td>\n",
       "      <td>southeast</td>\n",
       "      <td>1725.55230</td>\n",
       "    </tr>\n",
       "    <tr>\n",
       "      <th>2</th>\n",
       "      <td>28</td>\n",
       "      <td>male</td>\n",
       "      <td>33.000</td>\n",
       "      <td>3</td>\n",
       "      <td>no</td>\n",
       "      <td>southeast</td>\n",
       "      <td>4449.46200</td>\n",
       "    </tr>\n",
       "    <tr>\n",
       "      <th>3</th>\n",
       "      <td>33</td>\n",
       "      <td>male</td>\n",
       "      <td>22.705</td>\n",
       "      <td>0</td>\n",
       "      <td>no</td>\n",
       "      <td>northwest</td>\n",
       "      <td>21984.47061</td>\n",
       "    </tr>\n",
       "    <tr>\n",
       "      <th>4</th>\n",
       "      <td>32</td>\n",
       "      <td>male</td>\n",
       "      <td>28.880</td>\n",
       "      <td>0</td>\n",
       "      <td>no</td>\n",
       "      <td>northwest</td>\n",
       "      <td>3866.85520</td>\n",
       "    </tr>\n",
       "  </tbody>\n",
       "</table>\n",
       "</div>"
      ],
      "text/plain": [
       "   age     sex     bmi  children smoker     region      charges\n",
       "0   19  female  27.900         0    yes  southwest  16884.92400\n",
       "1   18    male  33.770         1     no  southeast   1725.55230\n",
       "2   28    male  33.000         3     no  southeast   4449.46200\n",
       "3   33    male  22.705         0     no  northwest  21984.47061\n",
       "4   32    male  28.880         0     no  northwest   3866.85520"
      ]
     },
     "execution_count": 19,
     "metadata": {},
     "output_type": "execute_result"
    }
   ],
   "source": [
    "# It's at this point that I just gave up and googled what charges was.\n",
    "# Individual medical costs incurred by each person.\n",
    "df_insurance.head()"
   ]
  },
  {
   "cell_type": "markdown",
   "id": "0ae1af34",
   "metadata": {},
   "source": [
    "Isn't it lovely to see? No missing values."
   ]
  },
  {
   "cell_type": "code",
   "execution_count": 20,
   "id": "75a6e9c5",
   "metadata": {},
   "outputs": [
    {
     "data": {
      "text/plain": [
       "age         0\n",
       "sex         0\n",
       "bmi         0\n",
       "children    0\n",
       "smoker      0\n",
       "region      0\n",
       "charges     0\n",
       "dtype: int64"
      ]
     },
     "execution_count": 20,
     "metadata": {},
     "output_type": "execute_result"
    }
   ],
   "source": [
    "df_insurance.isnull().sum(axis=0)"
   ]
  },
  {
   "cell_type": "code",
   "execution_count": 21,
   "id": "7db0e80d",
   "metadata": {},
   "outputs": [],
   "source": [
    "df_insurance['sex'] = df_insurance['sex'].astype('category')\n",
    "df_insurance['smoker'] = df_insurance['smoker'].astype('category')\n",
    "df_insurance['region'] = df_insurance['region'].astype('category')"
   ]
  },
  {
   "cell_type": "markdown",
   "id": "2db54935",
   "metadata": {},
   "source": [
    "I made this chart since I expected to see some correlation between age and charges which just seems normal right? The longer you're alive the more medical cost you rack up. But something more interesting has shown up: the stratification of cost. I'm not entirely sure why this is the case. But charges seem to be settled around 3 distinct regions."
   ]
  },
  {
   "cell_type": "code",
   "execution_count": 22,
   "id": "7ed0340d",
   "metadata": {},
   "outputs": [
    {
     "data": {
      "image/png": "[encoded data removed]",
      "text/plain": [
       "<Figure size 432x288 with 1 Axes>"
      ]
     },
     "metadata": {
      "needs_background": "light"
     },
     "output_type": "display_data"
    }
   ],
   "source": [
    "plt.plot(df_insurance['age'],df_insurance['charges'],'b.')\n",
    "plt.title('Age vs Charges')\n",
    "plt.xlabel('Age')\n",
    "plt.ylabel('Charges')\n",
    "plt.show()"
   ]
  },
  {
   "cell_type": "markdown",
   "id": "35ebf359",
   "metadata": {},
   "source": [
    "There isn't much distinction between male and female in terms of BMI."
   ]
  },
  {
   "cell_type": "code",
   "execution_count": 23,
   "id": "91b170c1",
   "metadata": {},
   "outputs": [
    {
     "data": {
      "image/png": "[encoded data removed]",
      "text/plain": [
       "<Figure size 432x288 with 1 Axes>"
      ]
     },
     "metadata": {
      "needs_background": "light"
     },
     "output_type": "display_data"
    }
   ],
   "source": [
    "sns.kdeplot(df_insurance[df_insurance['sex']=='female']['bmi'])\n",
    "sns.kdeplot(df_insurance[df_insurance['sex']=='male']['bmi'])\n",
    "plt.title('Density Plot of BMIs by Sex')\n",
    "plt.xlabel('BMI')\n",
    "plt.legend(labels=['female','male'])\n",
    "plt.show()"
   ]
  },
  {
   "cell_type": "markdown",
   "id": "2bfffcc9",
   "metadata": {},
   "source": [
    "We can see that the most common amount of children is 0, decreasing with each added child considered."
   ]
  },
  {
   "cell_type": "code",
   "execution_count": 24,
   "id": "6a0207ef",
   "metadata": {},
   "outputs": [
    {
     "data": {
      "image/png": "[encoded data removed]",
      "text/plain": [
       "<Figure size 432x288 with 1 Axes>"
      ]
     },
     "metadata": {
      "needs_background": "light"
     },
     "output_type": "display_data"
    }
   ],
   "source": [
    "plt.hist(df_insurance['children'])\n",
    "plt.title('Number of Children')\n",
    "plt.xlabel('Number of Children')\n",
    "plt.ylabel('Count')\n",
    "plt.show()"
   ]
  },
  {
   "cell_type": "markdown",
   "id": "99b17205",
   "metadata": {},
   "source": [
    "Sometimes a graph may not be the best way to look at things. We can see that in this dataset, there are more male smokers than there are female smokers. Albeit the margin is fairly small."
   ]
  },
  {
   "cell_type": "code",
   "execution_count": 25,
   "id": "496594ea",
   "metadata": {},
   "outputs": [
    {
     "data": {
      "text/html": [
       "<div>\n",
       "<style scoped>\n",
       "    .dataframe tbody tr th:only-of-type {\n",
       "        vertical-align: middle;\n",
       "    }\n",
       "\n",
       "    .dataframe tbody tr th {\n",
       "        vertical-align: top;\n",
       "    }\n",
       "\n",
       "    .dataframe thead th {\n",
       "        text-align: right;\n",
       "    }\n",
       "</style>\n",
       "<table border=\"1\" class=\"dataframe\">\n",
       "  <thead>\n",
       "    <tr style=\"text-align: right;\">\n",
       "      <th>sex</th>\n",
       "      <th>female</th>\n",
       "      <th>male</th>\n",
       "    </tr>\n",
       "    <tr>\n",
       "      <th>smoker</th>\n",
       "      <th></th>\n",
       "      <th></th>\n",
       "    </tr>\n",
       "  </thead>\n",
       "  <tbody>\n",
       "    <tr>\n",
       "      <th>no</th>\n",
       "      <td>547</td>\n",
       "      <td>517</td>\n",
       "    </tr>\n",
       "    <tr>\n",
       "      <th>yes</th>\n",
       "      <td>115</td>\n",
       "      <td>159</td>\n",
       "    </tr>\n",
       "  </tbody>\n",
       "</table>\n",
       "</div>"
      ],
      "text/plain": [
       "sex     female  male\n",
       "smoker              \n",
       "no         547   517\n",
       "yes        115   159"
      ]
     },
     "execution_count": 25,
     "metadata": {},
     "output_type": "execute_result"
    }
   ],
   "source": [
    "pd.pivot_table(df_insurance,index='smoker',columns='sex',values='age',aggfunc='count')"
   ]
  },
  {
   "cell_type": "markdown",
   "id": "c83e1d62",
   "metadata": {},
   "source": [
    "Here we see an incredibly vague linear pattern between an entry's BMI and their charges incurred. Notably, there's also a similar stratification as to the first graph as there appear to be two relatively distinct \"classes\" in charges, where a line of y=~30,000 would make for a fairly clean cut."
   ]
  },
  {
   "cell_type": "code",
   "execution_count": 26,
   "id": "0c8162b6",
   "metadata": {},
   "outputs": [
    {
     "data": {
      "image/png": "[encoded data removed]",
      "text/plain": [
       "<Figure size 432x288 with 1 Axes>"
      ]
     },
     "metadata": {
      "needs_background": "light"
     },
     "output_type": "display_data"
    }
   ],
   "source": [
    "plt.plot(df_insurance['bmi'],df_insurance['charges'],'b.')\n",
    "plt.title('BMI vs Charges')\n",
    "plt.xlabel('BMI')\n",
    "plt.ylabel('Charges')\n",
    "plt.show()"
   ]
  },
  {
   "cell_type": "markdown",
   "id": "3c0bbdf7",
   "metadata": {},
   "source": [
    "## Part 1: Data Analysis - Wine dataset"
   ]
  },
  {
   "cell_type": "code",
   "execution_count": 27,
   "id": "2c66e13d",
   "metadata": {},
   "outputs": [],
   "source": [
    "df_wine = pd.read_csv('datasets/winequality-red.csv')"
   ]
  },
  {
   "cell_type": "markdown",
   "id": "aa07a229",
   "metadata": {},
   "source": [
    "Yet again we have a larger dataset than the penguins one. This time with even more columns. Most of them mean nothing to me but I'd say that's alright since I doubt they mean anything to anyone other than a sommelier. Even if I do wind up realizing that a low fixed acidity increases quality, I can't exactly go into a liquor store and ask the guy if he's got any wines with low fixed acidity."
   ]
  },
  {
   "cell_type": "code",
   "execution_count": 28,
   "id": "5cbd3414",
   "metadata": {},
   "outputs": [
    {
     "name": "stdout",
     "output_type": "stream",
     "text": [
      "(1599, 12)\n",
      "Index(['fixed acidity', 'volatile acidity', 'citric acid', 'residual sugar',\n",
      "       'chlorides', 'free sulfur dioxide', 'total sulfur dioxide', 'density',\n",
      "       'pH', 'sulphates', 'alcohol', 'quality'],\n",
      "      dtype='object')\n"
     ]
    }
   ],
   "source": [
    "print(df_wine.shape)\n",
    "print(df_wine.columns)"
   ]
  },
  {
   "cell_type": "markdown",
   "id": "5be89149",
   "metadata": {},
   "source": [
    "All numerical. That's pretty nice. It means no needing to convert anything to a categorical variable."
   ]
  },
  {
   "cell_type": "code",
   "execution_count": 29,
   "id": "46db4d50",
   "metadata": {},
   "outputs": [
    {
     "data": {
      "text/plain": [
       "fixed acidity           float64\n",
       "volatile acidity        float64\n",
       "citric acid             float64\n",
       "residual sugar          float64\n",
       "chlorides               float64\n",
       "free sulfur dioxide     float64\n",
       "total sulfur dioxide    float64\n",
       "density                 float64\n",
       "pH                      float64\n",
       "sulphates               float64\n",
       "alcohol                 float64\n",
       "quality                   int64\n",
       "dtype: object"
      ]
     },
     "execution_count": 29,
     "metadata": {},
     "output_type": "execute_result"
    }
   ],
   "source": [
    "df_wine.dtypes"
   ]
  },
  {
   "cell_type": "code",
   "execution_count": 30,
   "id": "799ae47c",
   "metadata": {},
   "outputs": [
    {
     "data": {
      "text/html": [
       "<div>\n",
       "<style scoped>\n",
       "    .dataframe tbody tr th:only-of-type {\n",
       "        vertical-align: middle;\n",
       "    }\n",
       "\n",
       "    .dataframe tbody tr th {\n",
       "        vertical-align: top;\n",
       "    }\n",
       "\n",
       "    .dataframe thead th {\n",
       "        text-align: right;\n",
       "    }\n",
       "</style>\n",
       "<table border=\"1\" class=\"dataframe\">\n",
       "  <thead>\n",
       "    <tr style=\"text-align: right;\">\n",
       "      <th></th>\n",
       "      <th>fixed acidity</th>\n",
       "      <th>volatile acidity</th>\n",
       "      <th>citric acid</th>\n",
       "      <th>residual sugar</th>\n",
       "      <th>chlorides</th>\n",
       "      <th>free sulfur dioxide</th>\n",
       "      <th>total sulfur dioxide</th>\n",
       "      <th>density</th>\n",
       "      <th>pH</th>\n",
       "      <th>sulphates</th>\n",
       "      <th>alcohol</th>\n",
       "      <th>quality</th>\n",
       "    </tr>\n",
       "  </thead>\n",
       "  <tbody>\n",
       "    <tr>\n",
       "      <th>count</th>\n",
       "      <td>1599.000000</td>\n",
       "      <td>1599.000000</td>\n",
       "      <td>1599.000000</td>\n",
       "      <td>1599.000000</td>\n",
       "      <td>1599.000000</td>\n",
       "      <td>1599.000000</td>\n",
       "      <td>1599.000000</td>\n",
       "      <td>1599.000000</td>\n",
       "      <td>1599.000000</td>\n",
       "      <td>1599.000000</td>\n",
       "      <td>1599.000000</td>\n",
       "      <td>1599.000000</td>\n",
       "    </tr>\n",
       "    <tr>\n",
       "      <th>mean</th>\n",
       "      <td>8.319637</td>\n",
       "      <td>0.527821</td>\n",
       "      <td>0.270976</td>\n",
       "      <td>2.538806</td>\n",
       "      <td>0.087467</td>\n",
       "      <td>15.874922</td>\n",
       "      <td>46.467792</td>\n",
       "      <td>0.996747</td>\n",
       "      <td>3.311113</td>\n",
       "      <td>0.658149</td>\n",
       "      <td>10.422983</td>\n",
       "      <td>5.636023</td>\n",
       "    </tr>\n",
       "    <tr>\n",
       "      <th>std</th>\n",
       "      <td>1.741096</td>\n",
       "      <td>0.179060</td>\n",
       "      <td>0.194801</td>\n",
       "      <td>1.409928</td>\n",
       "      <td>0.047065</td>\n",
       "      <td>10.460157</td>\n",
       "      <td>32.895324</td>\n",
       "      <td>0.001887</td>\n",
       "      <td>0.154386</td>\n",
       "      <td>0.169507</td>\n",
       "      <td>1.065668</td>\n",
       "      <td>0.807569</td>\n",
       "    </tr>\n",
       "    <tr>\n",
       "      <th>min</th>\n",
       "      <td>4.600000</td>\n",
       "      <td>0.120000</td>\n",
       "      <td>0.000000</td>\n",
       "      <td>0.900000</td>\n",
       "      <td>0.012000</td>\n",
       "      <td>1.000000</td>\n",
       "      <td>6.000000</td>\n",
       "      <td>0.990070</td>\n",
       "      <td>2.740000</td>\n",
       "      <td>0.330000</td>\n",
       "      <td>8.400000</td>\n",
       "      <td>3.000000</td>\n",
       "    </tr>\n",
       "    <tr>\n",
       "      <th>25%</th>\n",
       "      <td>7.100000</td>\n",
       "      <td>0.390000</td>\n",
       "      <td>0.090000</td>\n",
       "      <td>1.900000</td>\n",
       "      <td>0.070000</td>\n",
       "      <td>7.000000</td>\n",
       "      <td>22.000000</td>\n",
       "      <td>0.995600</td>\n",
       "      <td>3.210000</td>\n",
       "      <td>0.550000</td>\n",
       "      <td>9.500000</td>\n",
       "      <td>5.000000</td>\n",
       "    </tr>\n",
       "    <tr>\n",
       "      <th>50%</th>\n",
       "      <td>7.900000</td>\n",
       "      <td>0.520000</td>\n",
       "      <td>0.260000</td>\n",
       "      <td>2.200000</td>\n",
       "      <td>0.079000</td>\n",
       "      <td>14.000000</td>\n",
       "      <td>38.000000</td>\n",
       "      <td>0.996750</td>\n",
       "      <td>3.310000</td>\n",
       "      <td>0.620000</td>\n",
       "      <td>10.200000</td>\n",
       "      <td>6.000000</td>\n",
       "    </tr>\n",
       "    <tr>\n",
       "      <th>75%</th>\n",
       "      <td>9.200000</td>\n",
       "      <td>0.640000</td>\n",
       "      <td>0.420000</td>\n",
       "      <td>2.600000</td>\n",
       "      <td>0.090000</td>\n",
       "      <td>21.000000</td>\n",
       "      <td>62.000000</td>\n",
       "      <td>0.997835</td>\n",
       "      <td>3.400000</td>\n",
       "      <td>0.730000</td>\n",
       "      <td>11.100000</td>\n",
       "      <td>6.000000</td>\n",
       "    </tr>\n",
       "    <tr>\n",
       "      <th>max</th>\n",
       "      <td>15.900000</td>\n",
       "      <td>1.580000</td>\n",
       "      <td>1.000000</td>\n",
       "      <td>15.500000</td>\n",
       "      <td>0.611000</td>\n",
       "      <td>72.000000</td>\n",
       "      <td>289.000000</td>\n",
       "      <td>1.003690</td>\n",
       "      <td>4.010000</td>\n",
       "      <td>2.000000</td>\n",
       "      <td>14.900000</td>\n",
       "      <td>8.000000</td>\n",
       "    </tr>\n",
       "  </tbody>\n",
       "</table>\n",
       "</div>"
      ],
      "text/plain": [
       "       fixed acidity  volatile acidity  citric acid  residual sugar  \\\n",
       "count    1599.000000       1599.000000  1599.000000     1599.000000   \n",
       "mean        8.319637          0.527821     0.270976        2.538806   \n",
       "std         1.741096          0.179060     0.194801        1.409928   \n",
       "min         4.600000          0.120000     0.000000        0.900000   \n",
       "25%         7.100000          0.390000     0.090000        1.900000   \n",
       "50%         7.900000          0.520000     0.260000        2.200000   \n",
       "75%         9.200000          0.640000     0.420000        2.600000   \n",
       "max        15.900000          1.580000     1.000000       15.500000   \n",
       "\n",
       "         chlorides  free sulfur dioxide  total sulfur dioxide      density  \\\n",
       "count  1599.000000          1599.000000           1599.000000  1599.000000   \n",
       "mean      0.087467            15.874922             46.467792     0.996747   \n",
       "std       0.047065            10.460157             32.895324     0.001887   \n",
       "min       0.012000             1.000000              6.000000     0.990070   \n",
       "25%       0.070000             7.000000             22.000000     0.995600   \n",
       "50%       0.079000            14.000000             38.000000     0.996750   \n",
       "75%       0.090000            21.000000             62.000000     0.997835   \n",
       "max       0.611000            72.000000            289.000000     1.003690   \n",
       "\n",
       "                pH    sulphates      alcohol      quality  \n",
       "count  1599.000000  1599.000000  1599.000000  1599.000000  \n",
       "mean      3.311113     0.658149    10.422983     5.636023  \n",
       "std       0.154386     0.169507     1.065668     0.807569  \n",
       "min       2.740000     0.330000     8.400000     3.000000  \n",
       "25%       3.210000     0.550000     9.500000     5.000000  \n",
       "50%       3.310000     0.620000    10.200000     6.000000  \n",
       "75%       3.400000     0.730000    11.100000     6.000000  \n",
       "max       4.010000     2.000000    14.900000     8.000000  "
      ]
     },
     "execution_count": 30,
     "metadata": {},
     "output_type": "execute_result"
    }
   ],
   "source": [
    "df_wine.describe()"
   ]
  },
  {
   "cell_type": "markdown",
   "id": "ab23ddc3",
   "metadata": {},
   "source": [
    "This is a bit of a dense, overly numeric dataset. It's hard to look at this dataframe and think that these are products on a shelf in a store. However, it should lend itself well to regression analyses."
   ]
  },
  {
   "cell_type": "code",
   "execution_count": 31,
   "id": "447b5a25",
   "metadata": {},
   "outputs": [
    {
     "data": {
      "text/html": [
       "<div>\n",
       "<style scoped>\n",
       "    .dataframe tbody tr th:only-of-type {\n",
       "        vertical-align: middle;\n",
       "    }\n",
       "\n",
       "    .dataframe tbody tr th {\n",
       "        vertical-align: top;\n",
       "    }\n",
       "\n",
       "    .dataframe thead th {\n",
       "        text-align: right;\n",
       "    }\n",
       "</style>\n",
       "<table border=\"1\" class=\"dataframe\">\n",
       "  <thead>\n",
       "    <tr style=\"text-align: right;\">\n",
       "      <th></th>\n",
       "      <th>fixed acidity</th>\n",
       "      <th>volatile acidity</th>\n",
       "      <th>citric acid</th>\n",
       "      <th>residual sugar</th>\n",
       "      <th>chlorides</th>\n",
       "      <th>free sulfur dioxide</th>\n",
       "      <th>total sulfur dioxide</th>\n",
       "      <th>density</th>\n",
       "      <th>pH</th>\n",
       "      <th>sulphates</th>\n",
       "      <th>alcohol</th>\n",
       "      <th>quality</th>\n",
       "    </tr>\n",
       "  </thead>\n",
       "  <tbody>\n",
       "    <tr>\n",
       "      <th>0</th>\n",
       "      <td>7.4</td>\n",
       "      <td>0.70</td>\n",
       "      <td>0.00</td>\n",
       "      <td>1.9</td>\n",
       "      <td>0.076</td>\n",
       "      <td>11.0</td>\n",
       "      <td>34.0</td>\n",
       "      <td>0.9978</td>\n",
       "      <td>3.51</td>\n",
       "      <td>0.56</td>\n",
       "      <td>9.4</td>\n",
       "      <td>5</td>\n",
       "    </tr>\n",
       "    <tr>\n",
       "      <th>1</th>\n",
       "      <td>7.8</td>\n",
       "      <td>0.88</td>\n",
       "      <td>0.00</td>\n",
       "      <td>2.6</td>\n",
       "      <td>0.098</td>\n",
       "      <td>25.0</td>\n",
       "      <td>67.0</td>\n",
       "      <td>0.9968</td>\n",
       "      <td>3.20</td>\n",
       "      <td>0.68</td>\n",
       "      <td>9.8</td>\n",
       "      <td>5</td>\n",
       "    </tr>\n",
       "    <tr>\n",
       "      <th>2</th>\n",
       "      <td>7.8</td>\n",
       "      <td>0.76</td>\n",
       "      <td>0.04</td>\n",
       "      <td>2.3</td>\n",
       "      <td>0.092</td>\n",
       "      <td>15.0</td>\n",
       "      <td>54.0</td>\n",
       "      <td>0.9970</td>\n",
       "      <td>3.26</td>\n",
       "      <td>0.65</td>\n",
       "      <td>9.8</td>\n",
       "      <td>5</td>\n",
       "    </tr>\n",
       "    <tr>\n",
       "      <th>3</th>\n",
       "      <td>11.2</td>\n",
       "      <td>0.28</td>\n",
       "      <td>0.56</td>\n",
       "      <td>1.9</td>\n",
       "      <td>0.075</td>\n",
       "      <td>17.0</td>\n",
       "      <td>60.0</td>\n",
       "      <td>0.9980</td>\n",
       "      <td>3.16</td>\n",
       "      <td>0.58</td>\n",
       "      <td>9.8</td>\n",
       "      <td>6</td>\n",
       "    </tr>\n",
       "    <tr>\n",
       "      <th>4</th>\n",
       "      <td>7.4</td>\n",
       "      <td>0.70</td>\n",
       "      <td>0.00</td>\n",
       "      <td>1.9</td>\n",
       "      <td>0.076</td>\n",
       "      <td>11.0</td>\n",
       "      <td>34.0</td>\n",
       "      <td>0.9978</td>\n",
       "      <td>3.51</td>\n",
       "      <td>0.56</td>\n",
       "      <td>9.4</td>\n",
       "      <td>5</td>\n",
       "    </tr>\n",
       "  </tbody>\n",
       "</table>\n",
       "</div>"
      ],
      "text/plain": [
       "   fixed acidity  volatile acidity  citric acid  residual sugar  chlorides  \\\n",
       "0            7.4              0.70         0.00             1.9      0.076   \n",
       "1            7.8              0.88         0.00             2.6      0.098   \n",
       "2            7.8              0.76         0.04             2.3      0.092   \n",
       "3           11.2              0.28         0.56             1.9      0.075   \n",
       "4            7.4              0.70         0.00             1.9      0.076   \n",
       "\n",
       "   free sulfur dioxide  total sulfur dioxide  density    pH  sulphates  \\\n",
       "0                 11.0                  34.0   0.9978  3.51       0.56   \n",
       "1                 25.0                  67.0   0.9968  3.20       0.68   \n",
       "2                 15.0                  54.0   0.9970  3.26       0.65   \n",
       "3                 17.0                  60.0   0.9980  3.16       0.58   \n",
       "4                 11.0                  34.0   0.9978  3.51       0.56   \n",
       "\n",
       "   alcohol  quality  \n",
       "0      9.4        5  \n",
       "1      9.8        5  \n",
       "2      9.8        5  \n",
       "3      9.8        6  \n",
       "4      9.4        5  "
      ]
     },
     "execution_count": 31,
     "metadata": {},
     "output_type": "execute_result"
    }
   ],
   "source": [
    "df_wine.head()"
   ]
  },
  {
   "cell_type": "markdown",
   "id": "aea8ef4f",
   "metadata": {},
   "source": [
    "Yet again there's no missing values. So nothing needs to be done here."
   ]
  },
  {
   "cell_type": "code",
   "execution_count": 32,
   "id": "8e405ede",
   "metadata": {},
   "outputs": [
    {
     "data": {
      "text/plain": [
       "fixed acidity           0\n",
       "volatile acidity        0\n",
       "citric acid             0\n",
       "residual sugar          0\n",
       "chlorides               0\n",
       "free sulfur dioxide     0\n",
       "total sulfur dioxide    0\n",
       "density                 0\n",
       "pH                      0\n",
       "sulphates               0\n",
       "alcohol                 0\n",
       "quality                 0\n",
       "dtype: int64"
      ]
     },
     "execution_count": 32,
     "metadata": {},
     "output_type": "execute_result"
    }
   ],
   "source": [
    "df_wine.isnull().sum(axis=0)"
   ]
  },
  {
   "cell_type": "markdown",
   "id": "d30097ec",
   "metadata": {},
   "source": [
    "Not too much to glean from this graph except that there's not much of a correlation between pH and alcohol content."
   ]
  },
  {
   "cell_type": "code",
   "execution_count": 33,
   "id": "fc7240dd",
   "metadata": {},
   "outputs": [
    {
     "data": {
      "image/png": "[encoded data removed]",
      "text/plain": [
       "<Figure size 432x288 with 1 Axes>"
      ]
     },
     "metadata": {
      "needs_background": "light"
     },
     "output_type": "display_data"
    }
   ],
   "source": [
    "# Switching up the colors since red is a much more \"wine\" color to me.\n",
    "plt.plot(df_wine['pH'],df_wine['alcohol'],'r.')\n",
    "plt.title('pH vs Alcohol')\n",
    "plt.xlabel('pH')\n",
    "plt.ylabel('Alcohol')\n",
    "plt.show()"
   ]
  },
  {
   "cell_type": "markdown",
   "id": "9665596b",
   "metadata": {},
   "source": [
    "In an attempt to find some domain knowledge on what causes sulphates, maybe sulfur dioxide does? Well, apparently not. However, I did stumble on some outliers in the total sulfur dioxide column. Those two isolated points in the bottom right of the graph are so far removed from everything else it would probably be wise to just remove them. But that's outside the scope of this assignment so they'll be left in there."
   ]
  },
  {
   "cell_type": "code",
   "execution_count": 34,
   "id": "a9abed0e",
   "metadata": {},
   "outputs": [
    {
     "data": {
      "image/png": "[encoded data removed]",
      "text/plain": [
       "<Figure size 432x288 with 1 Axes>"
      ]
     },
     "metadata": {
      "needs_background": "light"
     },
     "output_type": "display_data"
    }
   ],
   "source": [
    "plt.plot(df_wine['total sulfur dioxide'],df_wine['sulphates'],'r.')\n",
    "plt.title('Total Sulfur Dioxide vs Sulphates')\n",
    "plt.xlabel('Total Sulfur Dioxide')\n",
    "plt.ylabel('Sulphates')\n",
    "plt.show()"
   ]
  },
  {
   "cell_type": "markdown",
   "id": "57fdf1f1",
   "metadata": {},
   "source": [
    "After taking a couple random shots in the dark on where there may be some correlation, it's better to just do everything all at once. The graph below shows areas of high correlation which may be helpful to look into.\n",
    "\n",
    "The main diagonal is trivially correlated as well as \"free sulfur dioxide\" and \"total sulfur dioxide\", but a couple areas of interest that will be the subject of the next plots are \"fixed acidity\" and \"pH\" as well as \"quality\" and \"alcohol.\""
   ]
  },
  {
   "cell_type": "code",
   "execution_count": 35,
   "id": "a0324eb6",
   "metadata": {},
   "outputs": [
    {
     "data": {
      "image/png": "[encoded data removed]",
      "text/plain": [
       "<Figure size 432x288 with 2 Axes>"
      ]
     },
     "metadata": {
      "needs_background": "light"
     },
     "output_type": "display_data"
    }
   ],
   "source": [
    "sns.heatmap(df_wine.corr())\n",
    "plt.title('Correlation Heat Map')\n",
    "plt.show()"
   ]
  },
  {
   "cell_type": "markdown",
   "id": "5104c707",
   "metadata": {},
   "source": [
    "This plot is interesting to me since while there is some linear correlation as suggested in the correlation plot above, there's a very obvious curve to the data which suggests the linear correlation would be improved greatly with some alteration of either of the columns."
   ]
  },
  {
   "cell_type": "code",
   "execution_count": 36,
   "id": "05c87443",
   "metadata": {},
   "outputs": [
    {
     "data": {
      "image/png": "[encoded data removed]",
      "text/plain": [
       "<Figure size 432x288 with 1 Axes>"
      ]
     },
     "metadata": {
      "needs_background": "light"
     },
     "output_type": "display_data"
    }
   ],
   "source": [
    "plt.plot(df_wine['fixed acidity'],df_wine['pH'],'r.')\n",
    "plt.title('Fixed Acidity vs pH')\n",
    "plt.xlabel('Fixed Acidity')\n",
    "plt.ylabel('pH')\n",
    "plt.show()"
   ]
  },
  {
   "cell_type": "markdown",
   "id": "c9946d7a",
   "metadata": {},
   "source": [
    "Even though the scatter plot format of this data is forced and probably not the best idea, a linear pattern is still apparent and it's definitely not unreasonable to say that there's a linear correlation between alcohol and quality."
   ]
  },
  {
   "cell_type": "code",
   "execution_count": 37,
   "id": "9425e5e6",
   "metadata": {},
   "outputs": [
    {
     "data": {
      "image/png": "[encoded data removed]",
      "text/plain": [
       "<Figure size 432x288 with 1 Axes>"
      ]
     },
     "metadata": {
      "needs_background": "light"
     },
     "output_type": "display_data"
    }
   ],
   "source": [
    "plt.plot(df_wine['alcohol'],df_wine['quality'],'r.')\n",
    "plt.title('Alcohol vs Quality')\n",
    "plt.xlabel('Alcohol')\n",
    "plt.ylabel('Quality')\n",
    "plt.show()"
   ]
  },
  {
   "cell_type": "markdown",
   "id": "dbc55e43",
   "metadata": {},
   "source": [
    "## Part 2: Logistic Regression"
   ]
  },
  {
   "cell_type": "markdown",
   "id": "60299ded",
   "metadata": {},
   "source": [
    "Penguins was the first dataset used above, and the imports are all kept in the very first code cell so steps 1, 2, and 3 are already finished."
   ]
  },
  {
   "cell_type": "code",
   "execution_count": 38,
   "id": "3930a6a1",
   "metadata": {},
   "outputs": [],
   "source": [
    "# Normalizing bill length\n",
    "min_bill_length = min(df_penguins['bill_length_mm'])\n",
    "max_bill_length = max(df_penguins['bill_length_mm'])\n",
    "df_penguins['bill_length_mm'] = (df_penguins['bill_length_mm']-min_bill_length)/(max_bill_length-min_bill_length)\n",
    "\n",
    "# Normalizing bill depth\n",
    "min_bill_depth = min(df_penguins['bill_depth_mm'])\n",
    "max_bill_depth = max(df_penguins['bill_depth_mm'])\n",
    "df_penguins['bill_depth_mm'] = (df_penguins['bill_depth_mm']-min_bill_depth)/(max_bill_depth-min_bill_depth)\n",
    "\n",
    "# Normalizing flipper length\n",
    "min_flipper = min(df_penguins['flipper_length_mm'])\n",
    "max_flipper = max(df_penguins['flipper_length_mm'])\n",
    "df_penguins['flipper_length_mm'] = (df_penguins['flipper_length_mm']-min_flipper)/(max_flipper-min_flipper)\n",
    "\n",
    "# Normalizing body mass\n",
    "min_mass = min(df_penguins['body_mass_g'])\n",
    "max_mass = max(df_penguins['body_mass_g'])\n",
    "df_penguins['body_mass_g'] = (df_penguins['body_mass_g']-min_mass)/(max_mass-min_mass)"
   ]
  },
  {
   "cell_type": "markdown",
   "id": "1a7302c4",
   "metadata": {},
   "source": [
    "For this assignment, our target variable will be identifying the penguins as \"gentoo\" or \"not gentoo\". This will require some modification of the species column.\n",
    "\n",
    "Furthermore, when we get down to the equation part of things we're going to run into issues with the categorical values, so I'm just going to eliminate them from consideration. This could be fixed by one-hot encoding the categoricals but the classifier should work fine without them. We're also going to drop the year because, even though it's numeric, it's just a categorical variable masquerading as numeric."
   ]
  },
  {
   "cell_type": "code",
   "execution_count": 39,
   "id": "bf97e4c0",
   "metadata": {},
   "outputs": [],
   "source": [
    "df_penguins['species'] = df_penguins['species'].replace('Gentoo',1)\n",
    "df_penguins['species'] = df_penguins['species'].replace('Adelie',0)\n",
    "df_penguins['species'] = df_penguins['species'].replace('Chinstrap',0)\n",
    "df_penguins['species'] = df_penguins['species'].astype('int')\n",
    "\n",
    "columns_to_drop = ['island','sex','year']\n",
    "df_penguins = df_penguins.loc[:,~df_penguins.columns.isin(columns_to_drop)]"
   ]
  },
  {
   "cell_type": "markdown",
   "id": "c86904e8",
   "metadata": {},
   "source": [
    "Creating data frames for input (X) and target (Y). Also, the data appears to be ordered based on species so we're going to shuffle the data now so that once the train-test split comes we only have to shuffle one thing."
   ]
  },
  {
   "cell_type": "code",
   "execution_count": 40,
   "id": "672f46ef",
   "metadata": {},
   "outputs": [],
   "source": [
    "df_penguins = df_penguins.sample(frac=1).reset_index(drop=True)\n",
    "X = df_penguins.loc[:,df_penguins.columns!='species']\n",
    "y = df_penguins['species']"
   ]
  },
  {
   "cell_type": "markdown",
   "id": "b9c4f720",
   "metadata": {},
   "source": [
    "80/20 train/test split"
   ]
  },
  {
   "cell_type": "code",
   "execution_count": 41,
   "id": "47161a13",
   "metadata": {},
   "outputs": [],
   "source": [
    "x_train_index = np.floor(0.8*df_penguins.shape[0])\n",
    "X_train = X.loc[0:x_train_index]\n",
    "X_test = X.loc[x_train_index+1:df_penguins.shape[0]]\n",
    "\n",
    "y_train_index = np.floor(0.8*df_penguins.shape[0])\n",
    "y_train = y.loc[0:y_train_index]\n",
    "y_test = y.loc[y_train_index+1:y.shape[0]]"
   ]
  },
  {
   "cell_type": "code",
   "execution_count": 42,
   "id": "118f7b07",
   "metadata": {},
   "outputs": [],
   "source": [
    "# A learning rate of 1e-6 was working WAY too slowly. This worked far better.\n",
    "\n",
    "learning_rate = 0.01\n",
    "iterations = 1000\n",
    "weights = np.random.uniform(0,1,X_train.shape[1])\n",
    "bias = 0\n",
    "\n",
    "def sigmoid(z):\n",
    "    return 1.0/(1.0+np.exp(-z))\n",
    "\n",
    "def cost(X,y,weights,bias):\n",
    "    h = sigmoid(np.dot(weights,X.T)+bias)\n",
    "    J = -np.mean(y*np.log(h)-(1-y)*np.log(1-h))\n",
    "    return J\n",
    "\n",
    "def gradient_descent(X,y,weights,bias):\n",
    "    pred = sigmoid(np.dot(weights,X.T)+bias)\n",
    "    delta = pred-y\n",
    "    dW = (1/(X.shape[0]))*np.dot(X.T,delta)\n",
    "    dB = np.sum(delta/(X.shape[0]))\n",
    "    return dW,dB\n",
    "\n",
    "def fit(X,y,input_weights,input_bias):\n",
    "    loss = []\n",
    "    weights = input_weights\n",
    "    bias = input_bias\n",
    "    for i in range(iterations):\n",
    "        dW,dB = gradient_descent(X,y,weights,bias)\n",
    "        pred = np.around(sigmoid(np.dot(weights,X.T)+bias))\n",
    "        loss_entry = np.mean(abs(pred-y))\n",
    "        loss.append(loss_entry)\n",
    "        weights = weights-(learning_rate*dW)\n",
    "        bias = bias-(learning_rate*dB)\n",
    "          \n",
    "    return weights,bias,loss"
   ]
  },
  {
   "cell_type": "code",
   "execution_count": 43,
   "id": "24d03b62",
   "metadata": {},
   "outputs": [],
   "source": [
    "updated_weights,updated_bias,updated_loss = fit(X_train,y_train,weights,bias)"
   ]
  },
  {
   "cell_type": "code",
   "execution_count": 44,
   "id": "f95f83de",
   "metadata": {},
   "outputs": [
    {
     "data": {
      "text/plain": [
       "0.9696969696969697"
      ]
     },
     "execution_count": 44,
     "metadata": {},
     "output_type": "execute_result"
    }
   ],
   "source": [
    "y_hat_final = np.around(sigmoid(np.dot(updated_weights,X_test.T)+updated_bias))\n",
    "1-np.mean(abs(y_hat_final-y_test))"
   ]
  },
  {
   "cell_type": "code",
   "execution_count": 45,
   "id": "0fe56567",
   "metadata": {},
   "outputs": [
    {
     "name": "stdout",
     "output_type": "stream",
     "text": [
      "[ 0.27845397 -0.94813119  0.94753227  1.12981292]\n"
     ]
    },
    {
     "data": {
      "text/plain": [
       "-1.0994613307351266"
      ]
     },
     "execution_count": 45,
     "metadata": {},
     "output_type": "execute_result"
    }
   ],
   "source": [
    "print(updated_weights)\n",
    "updated_bias"
   ]
  },
  {
   "cell_type": "code",
   "execution_count": 46,
   "id": "756ccbbb",
   "metadata": {},
   "outputs": [
    {
     "data": {
      "image/png": "[encoded data removed]",
      "text/plain": [
       "<Figure size 432x288 with 1 Axes>"
      ]
     },
     "metadata": {
      "needs_background": "light"
     },
     "output_type": "display_data"
    }
   ],
   "source": [
    "plt.plot(updated_loss)\n",
    "plt.xlabel('# of iterations')\n",
    "plt.ylabel('Loss')\n",
    "plt.title('Alpha=0.01 Over 1000 Iterations')\n",
    "plt.show()"
   ]
  },
  {
   "cell_type": "code",
   "execution_count": 47,
   "id": "e074c44f",
   "metadata": {},
   "outputs": [],
   "source": [
    "learning_rate = 10\n",
    "\n",
    "# In the interest of runtime, this was abbreviated\n",
    "iterations = 10000\n",
    "\n",
    "updated_weights,updated_bias,updated_loss = fit(X_train,y_train,weights,bias)"
   ]
  },
  {
   "cell_type": "code",
   "execution_count": 48,
   "id": "45400498",
   "metadata": {},
   "outputs": [
    {
     "data": {
      "image/png": "[encoded data removed]",
      "text/plain": [
       "<Figure size 432x288 with 1 Axes>"
      ]
     },
     "metadata": {
      "needs_background": "light"
     },
     "output_type": "display_data"
    }
   ],
   "source": [
    "plt.plot(updated_loss)\n",
    "plt.xlabel('# of iterations')\n",
    "plt.ylabel('Loss')\n",
    "plt.title('Alpha=10 Over 10,000 Iterations')\n",
    "plt.show()"
   ]
  },
  {
   "cell_type": "markdown",
   "id": "4dab0f86",
   "metadata": {},
   "source": [
    "## Part 3: Linear Regression"
   ]
  },
  {
   "cell_type": "markdown",
   "id": "291c51c8",
   "metadata": {},
   "source": [
    "For this section we're going to be using the wine dataset. As with the logistic regression section,the necessary libraries are already imported and the preprocessing is largely finished. Thankfully, there's no string variables to switch to categorical, but there's quite a few that need normalizing."
   ]
  },
  {
   "cell_type": "code",
   "execution_count": 49,
   "id": "27d660a0",
   "metadata": {},
   "outputs": [],
   "source": [
    "df_wine = (df_wine-df_wine.min())/(df_wine.max()-df_wine.min())"
   ]
  },
  {
   "cell_type": "markdown",
   "id": "a1920e0b",
   "metadata": {},
   "source": [
    "For this dataset and section, I've chosen alcohol as the target variable. The reason for this is that quality would be much better suited for multiclass classification and the other variables don't mean a whole lot for me, but alcohol I'm already familiar with making one of the large benefits of linear regression, its interpretability, far more pronounced."
   ]
  },
  {
   "cell_type": "code",
   "execution_count": 50,
   "id": "e2e8c0a7",
   "metadata": {},
   "outputs": [],
   "source": [
    "X = df_wine.loc[:,df_wine.columns!='alcohol']\n",
    "# Note that this will make the last entry in the weights vector the bias term\n",
    "X['bias'] = np.ones(X.shape[0])\n",
    "y = df_wine['alcohol']"
   ]
  },
  {
   "cell_type": "code",
   "execution_count": 51,
   "id": "ba2542ec",
   "metadata": {},
   "outputs": [],
   "source": [
    "x_train_index = np.floor(0.8*df_wine.shape[0])\n",
    "X_train = X.loc[0:x_train_index]\n",
    "X_test = X.loc[x_train_index+1:df_wine.shape[0]]\n",
    "\n",
    "y_train_index = np.floor(0.8*df_wine.shape[0])\n",
    "y_train = y.loc[0:y_train_index]\n",
    "y_test = y.loc[y_train_index+1:y.shape[0]]"
   ]
  },
  {
   "cell_type": "code",
   "execution_count": 52,
   "id": "2d295cc2",
   "metadata": {},
   "outputs": [
    {
     "name": "stdout",
     "output_type": "stream",
     "text": [
      "X_train shape is (1280, 12)\n",
      "X_test shape is (319, 12)\n",
      "y_train shape is (1280,)\n",
      "y_test shape is (319,)\n"
     ]
    }
   ],
   "source": [
    "print('X_train shape is '+str(X_train.shape))\n",
    "print('X_test shape is '+str(X_test.shape))\n",
    "print('y_train shape is '+str(y_train.shape))\n",
    "print('y_test shape is '+str(y_test.shape))"
   ]
  },
  {
   "cell_type": "code",
   "execution_count": 59,
   "id": "f3009a36",
   "metadata": {},
   "outputs": [
    {
     "name": "stdout",
     "output_type": "stream",
     "text": [
      "[ 0.88828121  0.16569405  0.12366803  0.66794222 -0.01323321 -0.01204942\n",
      " -0.06855743 -1.21939472  0.70641751  0.20899804  0.1909163   0.01503135]\n"
     ]
    }
   ],
   "source": [
    "def ols_weights(X,y):\n",
    "    weights = np.dot(np.dot(np.linalg.inv(np.dot((X.T),X)),X.T),y)\n",
    "    return weights\n",
    "weights = ols_weights(X_train,y_train)\n",
    "# Recall that the last entry here is the bias term\n",
    "print(weights)"
   ]
  },
  {
   "cell_type": "code",
   "execution_count": 60,
   "id": "b688b9a8",
   "metadata": {},
   "outputs": [],
   "source": [
    "def ols_predict(X,model):\n",
    "    return (model.T*X).sum(axis=1)\n",
    "prediction = ols_predict(X_test,weights)"
   ]
  },
  {
   "cell_type": "code",
   "execution_count": 61,
   "id": "26748632",
   "metadata": {},
   "outputs": [
    {
     "name": "stdout",
     "output_type": "stream",
     "text": [
      "Train error is: 0.0\n"
     ]
    }
   ],
   "source": [
    "train_error = np.sum(np.square(y_train-prediction))/len(prediction)\n",
    "print('Train error is: '+str(train_error))"
   ]
  },
  {
   "cell_type": "code",
   "execution_count": 62,
   "id": "257c68f1",
   "metadata": {},
   "outputs": [
    {
     "data": {
      "image/png": "[encoded data removed]",
      "text/plain": [
       "<Figure size 432x288 with 1 Axes>"
      ]
     },
     "metadata": {
      "needs_background": "light"
     },
     "output_type": "display_data"
    }
   ],
   "source": [
    "plt.plot(prediction,y_test,'r.')\n",
    "plt.title('Predicted Alcohol vs Actual Alcohol')\n",
    "plt.xlabel('Predicted Alcohol')\n",
    "plt.ylabel('Actual Alcohol')\n",
    "plt.plot([0,1])\n",
    "plt.show()"
   ]
  },
  {
   "cell_type": "markdown",
   "id": "8f6b6af8",
   "metadata": {},
   "source": [
    "## Part 4: Ridge Regression"
   ]
  },
  {
   "cell_type": "markdown",
   "id": "944a8fdd",
   "metadata": {},
   "source": [
    "For direct comparison, we're going to be using the same dataset, same target variable, and same train test splits as the standard OLS linear regression from the section above. It's worth mentioning that this could easily have been done as just one function but for the sake of compartmentalization I'm just going to rewrite the function down here with an extra lambda input parameter."
   ]
  },
  {
   "cell_type": "code",
   "execution_count": 66,
   "id": "62efa9b1",
   "metadata": {},
   "outputs": [
    {
     "name": "stdout",
     "output_type": "stream",
     "text": [
      "Train error is: 0.0\n"
     ]
    }
   ],
   "source": [
    "def ridge_weights(X,y,penalty):\n",
    "    penalty_matrix = penalty*np.identity(X.shape[1])\n",
    "    weights = np.dot(np.dot(np.linalg.inv(np.dot((X.T),X)+penalty_matrix),X.T),y)\n",
    "    return weights\n",
    "\n",
    "def ridge_predict(X,model):\n",
    "    return (model.T*X).sum(axis=1)\n",
    "\n",
    "prediction = ridge_predict(X_test,weights)\n",
    "train_error = np.sum(np.square(y_train-prediction))/len(prediction)\n",
    "print('Train error is: '+str(train_error))"
   ]
  },
  {
   "cell_type": "code",
   "execution_count": 67,
   "id": "464c774c",
   "metadata": {},
   "outputs": [
    {
     "name": "stdout",
     "output_type": "stream",
     "text": [
      "[ 0.93626438  0.16654788  0.115086    0.6892817   0.00318469 -0.01716506\n",
      " -0.05783071 -1.25726781  0.73604143  0.21411377  0.18423548  0.00402324]\n"
     ]
    }
   ],
   "source": [
    "weights = ridge_weights(X_train,y_train,-0.12)\n",
    "print(weights)"
   ]
  },
  {
   "cell_type": "code",
   "execution_count": 69,
   "id": "cb7ab9e9",
   "metadata": {},
   "outputs": [
    {
     "data": {
      "image/png": "[encoded data removed]",
      "text/plain": [
       "<Figure size 432x288 with 1 Axes>"
      ]
     },
     "metadata": {
      "needs_background": "light"
     },
     "output_type": "display_data"
    }
   ],
   "source": [
    "test_predictions = ridge_predict(X_test,weights)\n",
    "\n",
    "plt.plot(test_predictions,y_test,'r.')\n",
    "plt.title('Predicted Alcohol vs Actual Alcohol')\n",
    "plt.xlabel('Predicted Alcohol')\n",
    "plt.ylabel('Actual Alcohol')\n",
    "plt.plot([0,1])\n",
    "plt.show()"
   ]
  },
  {
   "cell_type": "code",
   "execution_count": null,
   "id": "6549085e",
   "metadata": {},
   "outputs": [],
   "source": []
  }
 ],
 "metadata": {
  "kernelspec": {
   "display_name": "Python 3",
   "language": "python",
   "name": "python3"
  },
  "language_info": {
   "codemirror_mode": {
    "name": "ipython",
    "version": 3
   },
   "file_extension": ".py",
   "mimetype": "text/x-python",
   "name": "python",
   "nbconvert_exporter": "python",
   "pygments_lexer": "ipython3",
   "version": "3.8.8"
  }
 },
 "nbformat": 4,
 "nbformat_minor": 5
}
